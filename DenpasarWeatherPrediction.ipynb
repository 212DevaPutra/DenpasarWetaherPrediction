{
  "cells": [
    {
      "cell_type": "markdown",
      "metadata": {
        "id": "qztMDfi-GD0V"
      },
      "source": [
        "## Weather Prediction"
      ]
    },
    {
      "cell_type": "markdown",
      "metadata": {
        "id": "WqXbVud9GD0W"
      },
      "source": [
        "**Anggota Kelompok**\n",
        "\n",
        "202010370311212 – Deva Putra Setya Pratama\n",
        "\n",
        "**DATA MINING TASK**\n",
        "\n",
        "Data mining task yang akan digunakan adalah klasifikasi. Klasifikasi pada dataset Denpasar, Bali Historical Weather Data adalah untuk mengelompokkan data cuaca berdasarkan berbagai atribut dan variabel cuaca yang terdapat dalam dataset tersebut. Dengan menggunakan algoritma klasifikasi, seperti Random Forest Classifier,  Decision Tree, Naive Bayes, atau Support Vector Machines (SVM), tujuan utama dari fungsi ini adalah untuk mengidentifikasi pola-pola atau kategori-kategori tertentu dalam data cuaca yang dapat digunakan untuk mengklasifikasikan cuaca dalam kelompok atau kategori yang sudah ditentukan."
      ]
    },
    {
      "cell_type": "markdown",
      "metadata": {
        "id": "n1chlj11GD0X"
      },
      "source": [
        "## Exploratory Data Analysis (EDA)\n",
        "\n"
      ]
    },
    {
      "cell_type": "markdown",
      "metadata": {
        "id": "TAd2Ie1jGD0X"
      },
      "source": [
        "**Melakukan import untuk semua library yang akan digunakan pada mini project**"
      ]
    },
    {
      "cell_type": "code",
      "execution_count": null,
      "metadata": {
        "id": "KB6j9rkVGD0X"
      },
      "outputs": [],
      "source": [
        "import pandas as pd\n",
        "import numpy as np\n",
        "import matplotlib.pyplot as plt\n",
        "from sklearn.model_selection import train_test_split\n",
        "from sklearn.decomposition import PCA\n",
        "from sklearn.manifold import TSNE\n",
        "import seaborn as sb"
      ]
    },
    {
      "cell_type": "code",
      "source": [
        "! pip install kaggle"
      ],
      "metadata": {
        "colab": {
          "base_uri": "https://localhost:8080/"
        },
        "id": "_7k9M6VRGH7I",
        "outputId": "7f691607-cf75-4913-e478-fb3923aa917c"
      },
      "execution_count": null,
      "outputs": [
        {
          "output_type": "stream",
          "name": "stdout",
          "text": [
            "Looking in indexes: https://pypi.org/simple, https://us-python.pkg.dev/colab-wheels/public/simple/\n",
            "Requirement already satisfied: kaggle in /usr/local/lib/python3.10/dist-packages (1.5.13)\n",
            "Requirement already satisfied: six>=1.10 in /usr/local/lib/python3.10/dist-packages (from kaggle) (1.16.0)\n",
            "Requirement already satisfied: certifi in /usr/local/lib/python3.10/dist-packages (from kaggle) (2022.12.7)\n",
            "Requirement already satisfied: python-dateutil in /usr/local/lib/python3.10/dist-packages (from kaggle) (2.8.2)\n",
            "Requirement already satisfied: requests in /usr/local/lib/python3.10/dist-packages (from kaggle) (2.27.1)\n",
            "Requirement already satisfied: tqdm in /usr/local/lib/python3.10/dist-packages (from kaggle) (4.65.0)\n",
            "Requirement already satisfied: python-slugify in /usr/local/lib/python3.10/dist-packages (from kaggle) (8.0.1)\n",
            "Requirement already satisfied: urllib3 in /usr/local/lib/python3.10/dist-packages (from kaggle) (1.26.15)\n",
            "Requirement already satisfied: text-unidecode>=1.3 in /usr/local/lib/python3.10/dist-packages (from python-slugify->kaggle) (1.3)\n",
            "Requirement already satisfied: charset-normalizer~=2.0.0 in /usr/local/lib/python3.10/dist-packages (from requests->kaggle) (2.0.12)\n",
            "Requirement already satisfied: idna<4,>=2.5 in /usr/local/lib/python3.10/dist-packages (from requests->kaggle) (3.4)\n"
          ]
        }
      ]
    },
    {
      "cell_type": "code",
      "source": [
        "!mkdir -p ~/.kaggle\n",
        "!cp /content/kaggle.json ~/.kaggle/kaggle.json\n",
        "!chmod 600 ~/.kaggle/kaggle.json"
      ],
      "metadata": {
        "id": "jcqB5Y3DGIbV"
      },
      "execution_count": null,
      "outputs": []
    },
    {
      "cell_type": "code",
      "source": [
        "!kaggle datasets download -d cornflake15/denpasarbalihistoricalweatherdata"
      ],
      "metadata": {
        "colab": {
          "base_uri": "https://localhost:8080/"
        },
        "id": "EjlxNDC-GMES",
        "outputId": "f275808d-ac2e-4d0a-8732-a12857b7746b"
      },
      "execution_count": null,
      "outputs": [
        {
          "output_type": "stream",
          "name": "stdout",
          "text": [
            "Downloading denpasarbalihistoricalweatherdata.zip to /content\n",
            "\r  0% 0.00/7.32M [00:00<?, ?B/s]\r 68% 5.00M/7.32M [00:00<00:00, 50.7MB/s]\n",
            "\r100% 7.32M/7.32M [00:00<00:00, 68.2MB/s]\n"
          ]
        }
      ]
    },
    {
      "cell_type": "code",
      "source": [
        "!unzip /content/denpasarbalihistoricalweatherdata.zip"
      ],
      "metadata": {
        "colab": {
          "base_uri": "https://localhost:8080/"
        },
        "id": "7bbAug0fGSIT",
        "outputId": "5bd5a303-0122-4fd7-c5e3-497ee0d6c542"
      },
      "execution_count": null,
      "outputs": [
        {
          "output_type": "stream",
          "name": "stdout",
          "text": [
            "Archive:  /content/denpasarbalihistoricalweatherdata.zip\n",
            "  inflating: openweatherdata-denpasar-1990-2020.csv  \n",
            "  inflating: openweatherdata-denpasar-1990-2020v0.1.csv  \n"
          ]
        }
      ]
    },
    {
      "cell_type": "code",
      "execution_count": null,
      "metadata": {
        "colab": {
          "base_uri": "https://localhost:8080/",
          "height": 647
        },
        "id": "aj9K_MIzGD0Y",
        "outputId": "d132eebf-789c-4d5b-bd87-3ce4ea610d6b"
      },
      "outputs": [
        {
          "output_type": "execute_result",
          "data": {
            "text/plain": [
              "          dt                         dt_iso  timezone city_name       lat  \\\n",
              "0  631152000  1990-01-01 00:00:00 +0000 UTC     28800  Denpasar -8.652497   \n",
              "1  631155600  1990-01-01 01:00:00 +0000 UTC     28800  Denpasar -8.652497   \n",
              "2  631159200  1990-01-01 02:00:00 +0000 UTC     28800  Denpasar -8.652497   \n",
              "3  631162800  1990-01-01 03:00:00 +0000 UTC     28800  Denpasar -8.652497   \n",
              "4  631166400  1990-01-01 04:00:00 +0000 UTC     28800  Denpasar -8.652497   \n",
              "\n",
              "          lon   temp  temp_min  temp_max  pressure  ...  snow_3h  snow_6h  \\\n",
              "0  115.219117  25.82     25.82     25.82    1010.0  ...      NaN      NaN   \n",
              "1  115.219117  26.20     26.20     26.20    1011.0  ...      NaN      NaN   \n",
              "2  115.219117  26.45     26.45     26.45    1011.0  ...      NaN      NaN   \n",
              "3  115.219117  26.80     26.80     26.80    1011.0  ...      NaN      NaN   \n",
              "4  115.219117  27.04     27.04     27.04    1010.0  ...      NaN      NaN   \n",
              "\n",
              "   snow_12h  snow_24h  snow_today  clouds_all  weather_id  weather_main  \\\n",
              "0       NaN       NaN         NaN          98         500          Rain   \n",
              "1       NaN       NaN         NaN          91         500          Rain   \n",
              "2       NaN       NaN         NaN          94         500          Rain   \n",
              "3       NaN       NaN         NaN          94         500          Rain   \n",
              "4       NaN       NaN         NaN          76         803        Clouds   \n",
              "\n",
              "   weather_description  weather_icon  \n",
              "0           light rain           10d  \n",
              "1           light rain           10d  \n",
              "2           light rain           10d  \n",
              "3           light rain           10d  \n",
              "4        broken clouds           04d  \n",
              "\n",
              "[5 rows x 32 columns]"
            ],
            "text/html": [
              "\n",
              "  <div id=\"df-f1ce30f9-f183-416d-a8f2-1cdfb95e15fd\">\n",
              "    <div class=\"colab-df-container\">\n",
              "      <div>\n",
              "<style scoped>\n",
              "    .dataframe tbody tr th:only-of-type {\n",
              "        vertical-align: middle;\n",
              "    }\n",
              "\n",
              "    .dataframe tbody tr th {\n",
              "        vertical-align: top;\n",
              "    }\n",
              "\n",
              "    .dataframe thead th {\n",
              "        text-align: right;\n",
              "    }\n",
              "</style>\n",
              "<table border=\"1\" class=\"dataframe\">\n",
              "  <thead>\n",
              "    <tr style=\"text-align: right;\">\n",
              "      <th></th>\n",
              "      <th>dt</th>\n",
              "      <th>dt_iso</th>\n",
              "      <th>timezone</th>\n",
              "      <th>city_name</th>\n",
              "      <th>lat</th>\n",
              "      <th>lon</th>\n",
              "      <th>temp</th>\n",
              "      <th>temp_min</th>\n",
              "      <th>temp_max</th>\n",
              "      <th>pressure</th>\n",
              "      <th>...</th>\n",
              "      <th>snow_3h</th>\n",
              "      <th>snow_6h</th>\n",
              "      <th>snow_12h</th>\n",
              "      <th>snow_24h</th>\n",
              "      <th>snow_today</th>\n",
              "      <th>clouds_all</th>\n",
              "      <th>weather_id</th>\n",
              "      <th>weather_main</th>\n",
              "      <th>weather_description</th>\n",
              "      <th>weather_icon</th>\n",
              "    </tr>\n",
              "  </thead>\n",
              "  <tbody>\n",
              "    <tr>\n",
              "      <th>0</th>\n",
              "      <td>631152000</td>\n",
              "      <td>1990-01-01 00:00:00 +0000 UTC</td>\n",
              "      <td>28800</td>\n",
              "      <td>Denpasar</td>\n",
              "      <td>-8.652497</td>\n",
              "      <td>115.219117</td>\n",
              "      <td>25.82</td>\n",
              "      <td>25.82</td>\n",
              "      <td>25.82</td>\n",
              "      <td>1010.0</td>\n",
              "      <td>...</td>\n",
              "      <td>NaN</td>\n",
              "      <td>NaN</td>\n",
              "      <td>NaN</td>\n",
              "      <td>NaN</td>\n",
              "      <td>NaN</td>\n",
              "      <td>98</td>\n",
              "      <td>500</td>\n",
              "      <td>Rain</td>\n",
              "      <td>light rain</td>\n",
              "      <td>10d</td>\n",
              "    </tr>\n",
              "    <tr>\n",
              "      <th>1</th>\n",
              "      <td>631155600</td>\n",
              "      <td>1990-01-01 01:00:00 +0000 UTC</td>\n",
              "      <td>28800</td>\n",
              "      <td>Denpasar</td>\n",
              "      <td>-8.652497</td>\n",
              "      <td>115.219117</td>\n",
              "      <td>26.20</td>\n",
              "      <td>26.20</td>\n",
              "      <td>26.20</td>\n",
              "      <td>1011.0</td>\n",
              "      <td>...</td>\n",
              "      <td>NaN</td>\n",
              "      <td>NaN</td>\n",
              "      <td>NaN</td>\n",
              "      <td>NaN</td>\n",
              "      <td>NaN</td>\n",
              "      <td>91</td>\n",
              "      <td>500</td>\n",
              "      <td>Rain</td>\n",
              "      <td>light rain</td>\n",
              "      <td>10d</td>\n",
              "    </tr>\n",
              "    <tr>\n",
              "      <th>2</th>\n",
              "      <td>631159200</td>\n",
              "      <td>1990-01-01 02:00:00 +0000 UTC</td>\n",
              "      <td>28800</td>\n",
              "      <td>Denpasar</td>\n",
              "      <td>-8.652497</td>\n",
              "      <td>115.219117</td>\n",
              "      <td>26.45</td>\n",
              "      <td>26.45</td>\n",
              "      <td>26.45</td>\n",
              "      <td>1011.0</td>\n",
              "      <td>...</td>\n",
              "      <td>NaN</td>\n",
              "      <td>NaN</td>\n",
              "      <td>NaN</td>\n",
              "      <td>NaN</td>\n",
              "      <td>NaN</td>\n",
              "      <td>94</td>\n",
              "      <td>500</td>\n",
              "      <td>Rain</td>\n",
              "      <td>light rain</td>\n",
              "      <td>10d</td>\n",
              "    </tr>\n",
              "    <tr>\n",
              "      <th>3</th>\n",
              "      <td>631162800</td>\n",
              "      <td>1990-01-01 03:00:00 +0000 UTC</td>\n",
              "      <td>28800</td>\n",
              "      <td>Denpasar</td>\n",
              "      <td>-8.652497</td>\n",
              "      <td>115.219117</td>\n",
              "      <td>26.80</td>\n",
              "      <td>26.80</td>\n",
              "      <td>26.80</td>\n",
              "      <td>1011.0</td>\n",
              "      <td>...</td>\n",
              "      <td>NaN</td>\n",
              "      <td>NaN</td>\n",
              "      <td>NaN</td>\n",
              "      <td>NaN</td>\n",
              "      <td>NaN</td>\n",
              "      <td>94</td>\n",
              "      <td>500</td>\n",
              "      <td>Rain</td>\n",
              "      <td>light rain</td>\n",
              "      <td>10d</td>\n",
              "    </tr>\n",
              "    <tr>\n",
              "      <th>4</th>\n",
              "      <td>631166400</td>\n",
              "      <td>1990-01-01 04:00:00 +0000 UTC</td>\n",
              "      <td>28800</td>\n",
              "      <td>Denpasar</td>\n",
              "      <td>-8.652497</td>\n",
              "      <td>115.219117</td>\n",
              "      <td>27.04</td>\n",
              "      <td>27.04</td>\n",
              "      <td>27.04</td>\n",
              "      <td>1010.0</td>\n",
              "      <td>...</td>\n",
              "      <td>NaN</td>\n",
              "      <td>NaN</td>\n",
              "      <td>NaN</td>\n",
              "      <td>NaN</td>\n",
              "      <td>NaN</td>\n",
              "      <td>76</td>\n",
              "      <td>803</td>\n",
              "      <td>Clouds</td>\n",
              "      <td>broken clouds</td>\n",
              "      <td>04d</td>\n",
              "    </tr>\n",
              "  </tbody>\n",
              "</table>\n",
              "<p>5 rows × 32 columns</p>\n",
              "</div>\n",
              "      <button class=\"colab-df-convert\" onclick=\"convertToInteractive('df-f1ce30f9-f183-416d-a8f2-1cdfb95e15fd')\"\n",
              "              title=\"Convert this dataframe to an interactive table.\"\n",
              "              style=\"display:none;\">\n",
              "        \n",
              "  <svg xmlns=\"http://www.w3.org/2000/svg\" height=\"24px\"viewBox=\"0 0 24 24\"\n",
              "       width=\"24px\">\n",
              "    <path d=\"M0 0h24v24H0V0z\" fill=\"none\"/>\n",
              "    <path d=\"M18.56 5.44l.94 2.06.94-2.06 2.06-.94-2.06-.94-.94-2.06-.94 2.06-2.06.94zm-11 1L8.5 8.5l.94-2.06 2.06-.94-2.06-.94L8.5 2.5l-.94 2.06-2.06.94zm10 10l.94 2.06.94-2.06 2.06-.94-2.06-.94-.94-2.06-.94 2.06-2.06.94z\"/><path d=\"M17.41 7.96l-1.37-1.37c-.4-.4-.92-.59-1.43-.59-.52 0-1.04.2-1.43.59L10.3 9.45l-7.72 7.72c-.78.78-.78 2.05 0 2.83L4 21.41c.39.39.9.59 1.41.59.51 0 1.02-.2 1.41-.59l7.78-7.78 2.81-2.81c.8-.78.8-2.07 0-2.86zM5.41 20L4 18.59l7.72-7.72 1.47 1.35L5.41 20z\"/>\n",
              "  </svg>\n",
              "      </button>\n",
              "      \n",
              "  <style>\n",
              "    .colab-df-container {\n",
              "      display:flex;\n",
              "      flex-wrap:wrap;\n",
              "      gap: 12px;\n",
              "    }\n",
              "\n",
              "    .colab-df-convert {\n",
              "      background-color: #E8F0FE;\n",
              "      border: none;\n",
              "      border-radius: 50%;\n",
              "      cursor: pointer;\n",
              "      display: none;\n",
              "      fill: #1967D2;\n",
              "      height: 32px;\n",
              "      padding: 0 0 0 0;\n",
              "      width: 32px;\n",
              "    }\n",
              "\n",
              "    .colab-df-convert:hover {\n",
              "      background-color: #E2EBFA;\n",
              "      box-shadow: 0px 1px 2px rgba(60, 64, 67, 0.3), 0px 1px 3px 1px rgba(60, 64, 67, 0.15);\n",
              "      fill: #174EA6;\n",
              "    }\n",
              "\n",
              "    [theme=dark] .colab-df-convert {\n",
              "      background-color: #3B4455;\n",
              "      fill: #D2E3FC;\n",
              "    }\n",
              "\n",
              "    [theme=dark] .colab-df-convert:hover {\n",
              "      background-color: #434B5C;\n",
              "      box-shadow: 0px 1px 3px 1px rgba(0, 0, 0, 0.15);\n",
              "      filter: drop-shadow(0px 1px 2px rgba(0, 0, 0, 0.3));\n",
              "      fill: #FFFFFF;\n",
              "    }\n",
              "  </style>\n",
              "\n",
              "      <script>\n",
              "        const buttonEl =\n",
              "          document.querySelector('#df-f1ce30f9-f183-416d-a8f2-1cdfb95e15fd button.colab-df-convert');\n",
              "        buttonEl.style.display =\n",
              "          google.colab.kernel.accessAllowed ? 'block' : 'none';\n",
              "\n",
              "        async function convertToInteractive(key) {\n",
              "          const element = document.querySelector('#df-f1ce30f9-f183-416d-a8f2-1cdfb95e15fd');\n",
              "          const dataTable =\n",
              "            await google.colab.kernel.invokeFunction('convertToInteractive',\n",
              "                                                     [key], {});\n",
              "          if (!dataTable) return;\n",
              "\n",
              "          const docLinkHtml = 'Like what you see? Visit the ' +\n",
              "            '<a target=\"_blank\" href=https://colab.research.google.com/notebooks/data_table.ipynb>data table notebook</a>'\n",
              "            + ' to learn more about interactive tables.';\n",
              "          element.innerHTML = '';\n",
              "          dataTable['output_type'] = 'display_data';\n",
              "          await google.colab.output.renderOutput(dataTable, element);\n",
              "          const docLink = document.createElement('div');\n",
              "          docLink.innerHTML = docLinkHtml;\n",
              "          element.appendChild(docLink);\n",
              "        }\n",
              "      </script>\n",
              "    </div>\n",
              "  </div>\n",
              "  "
            ]
          },
          "metadata": {},
          "execution_count": 12
        }
      ],
      "source": [
        "# Membaca file\n",
        "df = pd.read_csv('openweatherdata-denpasar-1990-2020.csv')\n",
        "\n",
        "# Menampilkan 5 data urutan paling atas\n",
        "df.head()"
      ]
    },
    {
      "cell_type": "markdown",
      "metadata": {
        "id": "RSk5489vGD0Z"
      },
      "source": [
        "## Data Preprocessing"
      ]
    },
    {
      "cell_type": "markdown",
      "metadata": {
        "id": "bq0x7AE2GD0Z"
      },
      "source": [
        "**Feature Selection (Pemilihan fitur) dan menghapus fitur yang tidak digunakan**"
      ]
    },
    {
      "cell_type": "code",
      "execution_count": null,
      "metadata": {
        "colab": {
          "base_uri": "https://localhost:8080/"
        },
        "id": "BvmjwnbzGD0Z",
        "outputId": "ffc500f2-6f4c-4d26-a0d5-e631604c5801"
      },
      "outputs": [
        {
          "output_type": "stream",
          "name": "stdout",
          "text": [
            "\n",
            "Rows and Columns:\n",
            "(264924, 7)\n",
            "\n",
            "Null Values %:\n",
            "temp            0.0\n",
            "pressure        0.0\n",
            "humidity        0.0\n",
            "wind_speed      0.0\n",
            "wind_deg        0.0\n",
            "clouds_all      0.0\n",
            "weather_main    0.0\n",
            "dtype: float64\n"
          ]
        }
      ],
      "source": [
        "#Memilihi fitur-fitur yang akan digunakan \n",
        "usecols = ['temp', 'pressure', 'humidity', 'wind_speed', 'wind_deg', 'clouds_all', 'weather_main']\n",
        "\n",
        "#Menghapus fitur yang tidak digunakan\n",
        "df = pd.DataFrame(df, columns=usecols)\n",
        "\n",
        "#Mengecek nulla value\n",
        "print(f\"\\nRows and Columns:\\n{df.shape}\")\n",
        "print(f\"\\nNull Values %:\\n{df.apply(lambda x: sum(x.isnull()) / len(df))}\")"
      ]
    },
    {
      "cell_type": "markdown",
      "metadata": {
        "id": "v-tT_5KXGD0Z"
      },
      "source": [
        "**Drop Duplicated Column**"
      ]
    },
    {
      "cell_type": "code",
      "execution_count": null,
      "metadata": {
        "colab": {
          "base_uri": "https://localhost:8080/"
        },
        "id": "H98MZHmfGD0a",
        "outputId": "83a24cdf-8998-40ca-a7c9-cb041d4106f3"
      },
      "outputs": [
        {
          "output_type": "stream",
          "name": "stdout",
          "text": [
            "\n",
            "Rows and Columns:\n",
            "(264924, 7)\n"
          ]
        }
      ],
      "source": [
        "#Menampilkan jumlah data sebelum dilakukan drop pada data duplikat\n",
        "print(f\"\\nRows and Columns:\\n{df.shape}\")"
      ]
    },
    {
      "cell_type": "code",
      "execution_count": null,
      "metadata": {
        "colab": {
          "base_uri": "https://localhost:8080/",
          "height": 424
        },
        "id": "BeOJFkovGD0a",
        "outputId": "54efdc93-ec84-43fa-9265-140065b205bc"
      },
      "outputs": [
        {
          "output_type": "execute_result",
          "data": {
            "text/plain": [
              "         temp  pressure  humidity  wind_speed  wind_deg  clouds_all  \\\n",
              "0       25.82    1010.0        86        1.36       225          98   \n",
              "1       26.20    1011.0        84        2.09       247          91   \n",
              "2       26.45    1011.0        84        2.44       262          94   \n",
              "3       26.80    1011.0        82        2.29       271          94   \n",
              "4       27.04    1010.0        82        1.71       274          76   \n",
              "...       ...       ...       ...         ...       ...         ...   \n",
              "264919  27.00    1007.0        94        4.10       300          75   \n",
              "264920  27.00    1007.0        94        5.70       300          75   \n",
              "264921  28.00    1007.0        83        6.70       290          75   \n",
              "264922  28.00    1007.0        83        6.20       290          40   \n",
              "264923  28.00    1008.0        83        5.70       300          40   \n",
              "\n",
              "       weather_main  \n",
              "0              Rain  \n",
              "1              Rain  \n",
              "2              Rain  \n",
              "3              Rain  \n",
              "4            Clouds  \n",
              "...             ...  \n",
              "264919       Clouds  \n",
              "264920       Clouds  \n",
              "264921       Clouds  \n",
              "264922       Clouds  \n",
              "264923       Clouds  \n",
              "\n",
              "[232767 rows x 7 columns]"
            ],
            "text/html": [
              "\n",
              "  <div id=\"df-9ca38afb-feac-43ba-a10b-eba94a4a3ab8\">\n",
              "    <div class=\"colab-df-container\">\n",
              "      <div>\n",
              "<style scoped>\n",
              "    .dataframe tbody tr th:only-of-type {\n",
              "        vertical-align: middle;\n",
              "    }\n",
              "\n",
              "    .dataframe tbody tr th {\n",
              "        vertical-align: top;\n",
              "    }\n",
              "\n",
              "    .dataframe thead th {\n",
              "        text-align: right;\n",
              "    }\n",
              "</style>\n",
              "<table border=\"1\" class=\"dataframe\">\n",
              "  <thead>\n",
              "    <tr style=\"text-align: right;\">\n",
              "      <th></th>\n",
              "      <th>temp</th>\n",
              "      <th>pressure</th>\n",
              "      <th>humidity</th>\n",
              "      <th>wind_speed</th>\n",
              "      <th>wind_deg</th>\n",
              "      <th>clouds_all</th>\n",
              "      <th>weather_main</th>\n",
              "    </tr>\n",
              "  </thead>\n",
              "  <tbody>\n",
              "    <tr>\n",
              "      <th>0</th>\n",
              "      <td>25.82</td>\n",
              "      <td>1010.0</td>\n",
              "      <td>86</td>\n",
              "      <td>1.36</td>\n",
              "      <td>225</td>\n",
              "      <td>98</td>\n",
              "      <td>Rain</td>\n",
              "    </tr>\n",
              "    <tr>\n",
              "      <th>1</th>\n",
              "      <td>26.20</td>\n",
              "      <td>1011.0</td>\n",
              "      <td>84</td>\n",
              "      <td>2.09</td>\n",
              "      <td>247</td>\n",
              "      <td>91</td>\n",
              "      <td>Rain</td>\n",
              "    </tr>\n",
              "    <tr>\n",
              "      <th>2</th>\n",
              "      <td>26.45</td>\n",
              "      <td>1011.0</td>\n",
              "      <td>84</td>\n",
              "      <td>2.44</td>\n",
              "      <td>262</td>\n",
              "      <td>94</td>\n",
              "      <td>Rain</td>\n",
              "    </tr>\n",
              "    <tr>\n",
              "      <th>3</th>\n",
              "      <td>26.80</td>\n",
              "      <td>1011.0</td>\n",
              "      <td>82</td>\n",
              "      <td>2.29</td>\n",
              "      <td>271</td>\n",
              "      <td>94</td>\n",
              "      <td>Rain</td>\n",
              "    </tr>\n",
              "    <tr>\n",
              "      <th>4</th>\n",
              "      <td>27.04</td>\n",
              "      <td>1010.0</td>\n",
              "      <td>82</td>\n",
              "      <td>1.71</td>\n",
              "      <td>274</td>\n",
              "      <td>76</td>\n",
              "      <td>Clouds</td>\n",
              "    </tr>\n",
              "    <tr>\n",
              "      <th>...</th>\n",
              "      <td>...</td>\n",
              "      <td>...</td>\n",
              "      <td>...</td>\n",
              "      <td>...</td>\n",
              "      <td>...</td>\n",
              "      <td>...</td>\n",
              "      <td>...</td>\n",
              "    </tr>\n",
              "    <tr>\n",
              "      <th>264919</th>\n",
              "      <td>27.00</td>\n",
              "      <td>1007.0</td>\n",
              "      <td>94</td>\n",
              "      <td>4.10</td>\n",
              "      <td>300</td>\n",
              "      <td>75</td>\n",
              "      <td>Clouds</td>\n",
              "    </tr>\n",
              "    <tr>\n",
              "      <th>264920</th>\n",
              "      <td>27.00</td>\n",
              "      <td>1007.0</td>\n",
              "      <td>94</td>\n",
              "      <td>5.70</td>\n",
              "      <td>300</td>\n",
              "      <td>75</td>\n",
              "      <td>Clouds</td>\n",
              "    </tr>\n",
              "    <tr>\n",
              "      <th>264921</th>\n",
              "      <td>28.00</td>\n",
              "      <td>1007.0</td>\n",
              "      <td>83</td>\n",
              "      <td>6.70</td>\n",
              "      <td>290</td>\n",
              "      <td>75</td>\n",
              "      <td>Clouds</td>\n",
              "    </tr>\n",
              "    <tr>\n",
              "      <th>264922</th>\n",
              "      <td>28.00</td>\n",
              "      <td>1007.0</td>\n",
              "      <td>83</td>\n",
              "      <td>6.20</td>\n",
              "      <td>290</td>\n",
              "      <td>40</td>\n",
              "      <td>Clouds</td>\n",
              "    </tr>\n",
              "    <tr>\n",
              "      <th>264923</th>\n",
              "      <td>28.00</td>\n",
              "      <td>1008.0</td>\n",
              "      <td>83</td>\n",
              "      <td>5.70</td>\n",
              "      <td>300</td>\n",
              "      <td>40</td>\n",
              "      <td>Clouds</td>\n",
              "    </tr>\n",
              "  </tbody>\n",
              "</table>\n",
              "<p>232767 rows × 7 columns</p>\n",
              "</div>\n",
              "      <button class=\"colab-df-convert\" onclick=\"convertToInteractive('df-9ca38afb-feac-43ba-a10b-eba94a4a3ab8')\"\n",
              "              title=\"Convert this dataframe to an interactive table.\"\n",
              "              style=\"display:none;\">\n",
              "        \n",
              "  <svg xmlns=\"http://www.w3.org/2000/svg\" height=\"24px\"viewBox=\"0 0 24 24\"\n",
              "       width=\"24px\">\n",
              "    <path d=\"M0 0h24v24H0V0z\" fill=\"none\"/>\n",
              "    <path d=\"M18.56 5.44l.94 2.06.94-2.06 2.06-.94-2.06-.94-.94-2.06-.94 2.06-2.06.94zm-11 1L8.5 8.5l.94-2.06 2.06-.94-2.06-.94L8.5 2.5l-.94 2.06-2.06.94zm10 10l.94 2.06.94-2.06 2.06-.94-2.06-.94-.94-2.06-.94 2.06-2.06.94z\"/><path d=\"M17.41 7.96l-1.37-1.37c-.4-.4-.92-.59-1.43-.59-.52 0-1.04.2-1.43.59L10.3 9.45l-7.72 7.72c-.78.78-.78 2.05 0 2.83L4 21.41c.39.39.9.59 1.41.59.51 0 1.02-.2 1.41-.59l7.78-7.78 2.81-2.81c.8-.78.8-2.07 0-2.86zM5.41 20L4 18.59l7.72-7.72 1.47 1.35L5.41 20z\"/>\n",
              "  </svg>\n",
              "      </button>\n",
              "      \n",
              "  <style>\n",
              "    .colab-df-container {\n",
              "      display:flex;\n",
              "      flex-wrap:wrap;\n",
              "      gap: 12px;\n",
              "    }\n",
              "\n",
              "    .colab-df-convert {\n",
              "      background-color: #E8F0FE;\n",
              "      border: none;\n",
              "      border-radius: 50%;\n",
              "      cursor: pointer;\n",
              "      display: none;\n",
              "      fill: #1967D2;\n",
              "      height: 32px;\n",
              "      padding: 0 0 0 0;\n",
              "      width: 32px;\n",
              "    }\n",
              "\n",
              "    .colab-df-convert:hover {\n",
              "      background-color: #E2EBFA;\n",
              "      box-shadow: 0px 1px 2px rgba(60, 64, 67, 0.3), 0px 1px 3px 1px rgba(60, 64, 67, 0.15);\n",
              "      fill: #174EA6;\n",
              "    }\n",
              "\n",
              "    [theme=dark] .colab-df-convert {\n",
              "      background-color: #3B4455;\n",
              "      fill: #D2E3FC;\n",
              "    }\n",
              "\n",
              "    [theme=dark] .colab-df-convert:hover {\n",
              "      background-color: #434B5C;\n",
              "      box-shadow: 0px 1px 3px 1px rgba(0, 0, 0, 0.15);\n",
              "      filter: drop-shadow(0px 1px 2px rgba(0, 0, 0, 0.3));\n",
              "      fill: #FFFFFF;\n",
              "    }\n",
              "  </style>\n",
              "\n",
              "      <script>\n",
              "        const buttonEl =\n",
              "          document.querySelector('#df-9ca38afb-feac-43ba-a10b-eba94a4a3ab8 button.colab-df-convert');\n",
              "        buttonEl.style.display =\n",
              "          google.colab.kernel.accessAllowed ? 'block' : 'none';\n",
              "\n",
              "        async function convertToInteractive(key) {\n",
              "          const element = document.querySelector('#df-9ca38afb-feac-43ba-a10b-eba94a4a3ab8');\n",
              "          const dataTable =\n",
              "            await google.colab.kernel.invokeFunction('convertToInteractive',\n",
              "                                                     [key], {});\n",
              "          if (!dataTable) return;\n",
              "\n",
              "          const docLinkHtml = 'Like what you see? Visit the ' +\n",
              "            '<a target=\"_blank\" href=https://colab.research.google.com/notebooks/data_table.ipynb>data table notebook</a>'\n",
              "            + ' to learn more about interactive tables.';\n",
              "          element.innerHTML = '';\n",
              "          dataTable['output_type'] = 'display_data';\n",
              "          await google.colab.output.renderOutput(dataTable, element);\n",
              "          const docLink = document.createElement('div');\n",
              "          docLink.innerHTML = docLinkHtml;\n",
              "          element.appendChild(docLink);\n",
              "        }\n",
              "      </script>\n",
              "    </div>\n",
              "  </div>\n",
              "  "
            ]
          },
          "metadata": {},
          "execution_count": 15
        }
      ],
      "source": [
        "#Menghapus data yang duplikat\n",
        "df = df.drop_duplicates()\n",
        "df"
      ]
    },
    {
      "cell_type": "code",
      "execution_count": null,
      "metadata": {
        "colab": {
          "base_uri": "https://localhost:8080/"
        },
        "id": "Fzp6lv0nGD0a",
        "outputId": "e2c8e73f-aa53-4e21-8ce9-2c5903697222"
      },
      "outputs": [
        {
          "output_type": "stream",
          "name": "stdout",
          "text": [
            "\n",
            "Rows and Columns:\n",
            "(232767, 7)\n"
          ]
        }
      ],
      "source": [
        "#Menampilkan jumlah data sesudah dilakukan drop pada data duplikat\n",
        "print(f\"\\nRows and Columns:\\n{df.shape}\")"
      ]
    },
    {
      "cell_type": "code",
      "execution_count": null,
      "metadata": {
        "id": "OJTrYPojGD0a",
        "outputId": "5dd6f122-08af-4794-b175-7bd98930482e",
        "colab": {
          "base_uri": "https://localhost:8080/",
          "height": 1000
        }
      },
      "outputs": [
        {
          "output_type": "display_data",
          "data": {
            "text/plain": [
              "<Figure size 300x200 with 1 Axes>"
            ],
            "image/png": "[encoded data removed]"
          },
          "metadata": {}
        },
        {
          "output_type": "display_data",
          "data": {
            "text/plain": [
              "<Figure size 300x200 with 1 Axes>"
            ],
            "image/png": "[encoded data removed]"
          },
          "metadata": {}
        },
        {
          "output_type": "display_data",
          "data": {
            "text/plain": [
              "<Figure size 300x200 with 1 Axes>"
            ],
            "image/png": "[encoded data removed]"
          },
          "metadata": {}
        },
        {
          "output_type": "display_data",
          "data": {
            "text/plain": [
              "<Figure size 300x200 with 1 Axes>"
            ],
            "image/png": "[encoded data removed]"
          },
          "metadata": {}
        },
        {
          "output_type": "display_data",
          "data": {
            "text/plain": [
              "<Figure size 300x200 with 1 Axes>"
            ],
            "image/png": "[encoded data removed]"
          },
          "metadata": {}
        },
        {
          "output_type": "display_data",
          "data": {
            "text/plain": [
              "<Figure size 300x200 with 1 Axes>"
            ],
            "image/png": "[encoded data removed]"
          },
          "metadata": {}
        }
      ],
      "source": [
        "# Daftar fitur yang kemungkinan memiliki data outlier\n",
        "fitur_list = ['temp', 'pressure', 'humidity', 'wind_speed', 'wind_deg', 'clouds_all']\n",
        "# Menampilkan boxplot\n",
        "\n",
        "for fitur in fitur_list:\n",
        "    fig, ax = plt.subplots(figsize=(3, 2))\n",
        "    sb.boxplot(data=df, y=fitur, ax=ax)\n",
        "    plt.title(f'Boxplot {fitur}')\n",
        "    plt.show()"
      ]
    },
    {
      "cell_type": "markdown",
      "metadata": {
        "id": "7vgLoHQqGD0b"
      },
      "source": [
        "**REMOVE OUTLIER**"
      ]
    },
    {
      "cell_type": "code",
      "execution_count": null,
      "metadata": {
        "id": "VSAVO0MVGD0b",
        "outputId": "7bbc99f6-0906-4e33-e90d-abb731d29a0c",
        "colab": {
          "base_uri": "https://localhost:8080/"
        }
      },
      "outputs": [
        {
          "output_type": "stream",
          "name": "stdout",
          "text": [
            "\n",
            "Rows and Columns:\n",
            "(232767, 7)\n"
          ]
        }
      ],
      "source": [
        "#Jumlah data sebelum data outlier dihapus\n",
        "print(f\"\\nRows and Columns:\\n{df.shape}\")"
      ]
    },
    {
      "cell_type": "code",
      "execution_count": null,
      "metadata": {
        "id": "srVy5p-nGD0b"
      },
      "outputs": [],
      "source": [
        "#memilih fitur yang akan dihapus data outliernya\n",
        "fitur_list = ['temp', 'pressure', 'humidity', 'wind_speed', 'clouds_all']\n",
        "\n",
        "# Menghapus outlier menggunakan metode IQR\n",
        "for fitur in fitur_list:\n",
        "    Q1 = df[fitur].quantile(0.25)\n",
        "    Q3 = df[fitur].quantile(0.75)\n",
        "    IQR = Q3 - Q1\n",
        "\n",
        "    lower_bound = Q1 - 1.5 * IQR\n",
        "    upper_bound = Q3 + 1.5 * IQR\n",
        "\n",
        "    df = df[(df[fitur] >= lower_bound) & (df[fitur] <= upper_bound)]"
      ]
    },
    {
      "cell_type": "code",
      "execution_count": null,
      "metadata": {
        "id": "96priGqtGD0b",
        "outputId": "823549cf-55fc-4203-bae9-ed0ba65b1583",
        "colab": {
          "base_uri": "https://localhost:8080/"
        }
      },
      "outputs": [
        {
          "output_type": "stream",
          "name": "stdout",
          "text": [
            "\n",
            "Rows and Columns:\n",
            "(181418, 7)\n"
          ]
        }
      ],
      "source": [
        "#Jumlah data setelah data outlier dihapus\n",
        "print(f\"\\nRows and Columns:\\n{df.shape}\")"
      ]
    },
    {
      "cell_type": "markdown",
      "metadata": {
        "id": "-jECCdjaGD0b"
      },
      "source": [
        "**Data Reduction**\n",
        "\n",
        "Pada tahap ini kami melakukan pemilihan kategori target yang nantinya akan diprekdiksi, target kategori utama kami adalah Rain, Clouds, Thunderstorm dan Clear. Karena target kategori lain memiliki data yang sangat jelek, maka kami memutuskan untuk menggunakan 4 target kategori tersebut. Penyebabnya adalah beberapa target kategori merupakn cuaca yang sangat jarang atau bahkan hampir tidak pernah terjadi di Indonesia. Oleh karena itu pada tahap ini akan dilakukan penghapusan target kategori yang tidak diperlukan untuk keperluan data balancing."
      ]
    },
    {
      "cell_type": "code",
      "execution_count": null,
      "metadata": {
        "id": "0_5b6_QFGD0b",
        "outputId": "163d2ba9-7a71-4ec0-be75-5738ee0938a1",
        "colab": {
          "base_uri": "https://localhost:8080/"
        }
      },
      "outputs": [
        {
          "output_type": "execute_result",
          "data": {
            "text/plain": [
              "Clouds          159769\n",
              "Rain             14367\n",
              "Clear             3872\n",
              "Thunderstorm      2845\n",
              "Haze               441\n",
              "Mist                62\n",
              "Smoke               28\n",
              "Fog                 15\n",
              "Dust                 5\n",
              "Tornado              4\n",
              "Ash                  4\n",
              "Squall               3\n",
              "Drizzle              3\n",
              "Name: weather_main, dtype: int64"
            ]
          },
          "metadata": {},
          "execution_count": 21
        }
      ],
      "source": [
        "#Total masing-masing target kategori \n",
        "df.weather_main.value_counts()"
      ]
    },
    {
      "cell_type": "code",
      "execution_count": null,
      "metadata": {
        "id": "-_ojIJOkGD0c"
      },
      "outputs": [],
      "source": [
        "#Menghapus target kategori selain 4 target kategori utama\n",
        "allowed_categories = ['Rain', 'Clouds', 'Clear', 'Thunderstorm']\n",
        "data_cleaned = df[df['weather_main'].isin(allowed_categories)]\n",
        "df = data_cleaned"
      ]
    },
    {
      "cell_type": "code",
      "source": [
        "# UPSAMPLING\n",
        "from imblearn.over_sampling import SMOTE\n",
        "\n",
        "X = df.drop('weather_main', axis=1)  # Fitur\n",
        "y = df['weather_main']  # Target\n",
        "\n",
        "# Menggunakan SMOTE untuk melakukan oversampling dengan target jumlah sampel pada kategori 'Clear' dan 'Thunderstorm'\n",
        "smote = SMOTE(sampling_strategy={'Clear': 13000, 'Thunderstorm': 13000})\n",
        "\n",
        "# Melakukan oversampling pada data menggunakan SMOTE\n",
        "X_upsampled, y_upsampled = smote.fit_resample(X, y)"
      ],
      "metadata": {
        "id": "KCJe8ZCuJxHq"
      },
      "execution_count": null,
      "outputs": []
    },
    {
      "cell_type": "code",
      "source": [
        "# Menggabungkan fitur dan target yang telah di-oversampling\n",
        "upsampled_data = pd.concat([X_upsampled, y_upsampled], axis=1)\n",
        "\n",
        "# Memperbarui dataframe utama dengan data yang telah di-oversampling\n",
        "df = upsampled_data"
      ],
      "metadata": {
        "id": "uULsbwXLJzA4"
      },
      "execution_count": null,
      "outputs": []
    },
    {
      "cell_type": "code",
      "source": [
        "# DOWNSAMPLING\n",
        "\n",
        "# Menghitung jumlah sampel dalam setiap kategori\n",
        "kategori_counts = df['weather_main'].value_counts()\n",
        "\n",
        "# Menentukan jumlah sampel yang diinginkan setelah downsampling\n",
        "desired_samples = 13000\n",
        "\n",
        "# Mendapatkan kategori dengan jumlah sampel terbanyak (kelas mayoritas)\n",
        "kelas_mayoritas = kategori_counts.idxmax()\n",
        "\n",
        "# Inisialisasi DataFrame kosong untuk menyimpan hasil downsampling\n",
        "downsampled_data = pd.DataFrame()\n",
        "\n",
        "# Melakukan downsampling pada setiap kategori\n",
        "for kategori in kategori_counts.index:\n",
        "    # Mengambil sampel acak sebanyak desired_samples dari kategori saat ini\n",
        "    samples = df[df['weather_main'] == kategori].sample(n=desired_samples, random_state=42)\n",
        "    # Menambahkan sampel ke DataFrame hasil downsampling\n",
        "    downsampled_data = pd.concat([downsampled_data, samples])\n",
        "\n",
        "df = downsampled_data"
      ],
      "metadata": {
        "id": "xU9rkdzRJ0bZ"
      },
      "execution_count": null,
      "outputs": []
    },
    {
      "cell_type": "code",
      "execution_count": null,
      "metadata": {
        "id": "oWMQRCQqGD0c",
        "outputId": "6ef2516b-6de8-4dc2-82ce-81d829e838a0",
        "colab": {
          "base_uri": "https://localhost:8080/"
        }
      },
      "outputs": [
        {
          "output_type": "execute_result",
          "data": {
            "text/plain": [
              "Clouds          13000\n",
              "Rain            13000\n",
              "Thunderstorm    13000\n",
              "Clear           13000\n",
              "Name: weather_main, dtype: int64"
            ]
          },
          "metadata": {},
          "execution_count": 26
        }
      ],
      "source": [
        "#Total target kategori utama\n",
        "df.weather_main.value_counts()"
      ]
    },
    {
      "cell_type": "code",
      "execution_count": null,
      "metadata": {
        "id": "w7eTGk1lGD0d",
        "outputId": "087758ce-863f-4feb-8f05-6aca08870fc4",
        "colab": {
          "base_uri": "https://localhost:8080/",
          "height": 406
        }
      },
      "outputs": [
        {
          "output_type": "display_data",
          "data": {
            "text/plain": [
              "<Figure size 640x480 with 1 Axes>"
            ],
            "image/png": "[encoded data removed]"
          },
          "metadata": {}
        }
      ],
      "source": [
        "#Menampilkan persentasi target kategori dengan pie chart\n",
        "plt.pie(df['weather_main'].value_counts().values,\n",
        "        labels = df['weather_main'].value_counts().index,\n",
        "        autopct='%1.1f%%')\n",
        "plt.show()"
      ]
    },
    {
      "cell_type": "code",
      "execution_count": null,
      "metadata": {
        "id": "azJqdcw0GD0d",
        "outputId": "747d7c9a-5011-44ff-9751-26b92df9372a",
        "colab": {
          "base_uri": "https://localhost:8080/",
          "height": 206
        }
      },
      "outputs": [
        {
          "output_type": "execute_result",
          "data": {
            "text/plain": [
              "                   temp     pressure   humidity  wind_speed    wind_deg  \\\n",
              "weather_main                                                              \n",
              "Clear         26.692044  1010.604620  79.561692    4.023172  134.399077   \n",
              "Clouds        27.451605  1010.139500  79.750154    3.593657  150.351231   \n",
              "Rain          26.320085  1009.717738  86.968077    3.703582  174.648000   \n",
              "Thunderstorm  27.126639  1008.535856  85.938308    2.809393  179.334769   \n",
              "\n",
              "              clouds_all  \n",
              "weather_main              \n",
              "Clear           4.643538  \n",
              "Clouds         27.832462  \n",
              "Rain           38.013846  \n",
              "Thunderstorm   33.020615  "
            ],
            "text/html": [
              "\n",
              "  <div id=\"df-0b8b9db5-42e9-4a2a-abb1-8576b876a077\">\n",
              "    <div class=\"colab-df-container\">\n",
              "      <div>\n",
              "<style scoped>\n",
              "    .dataframe tbody tr th:only-of-type {\n",
              "        vertical-align: middle;\n",
              "    }\n",
              "\n",
              "    .dataframe tbody tr th {\n",
              "        vertical-align: top;\n",
              "    }\n",
              "\n",
              "    .dataframe thead th {\n",
              "        text-align: right;\n",
              "    }\n",
              "</style>\n",
              "<table border=\"1\" class=\"dataframe\">\n",
              "  <thead>\n",
              "    <tr style=\"text-align: right;\">\n",
              "      <th></th>\n",
              "      <th>temp</th>\n",
              "      <th>pressure</th>\n",
              "      <th>humidity</th>\n",
              "      <th>wind_speed</th>\n",
              "      <th>wind_deg</th>\n",
              "      <th>clouds_all</th>\n",
              "    </tr>\n",
              "    <tr>\n",
              "      <th>weather_main</th>\n",
              "      <th></th>\n",
              "      <th></th>\n",
              "      <th></th>\n",
              "      <th></th>\n",
              "      <th></th>\n",
              "      <th></th>\n",
              "    </tr>\n",
              "  </thead>\n",
              "  <tbody>\n",
              "    <tr>\n",
              "      <th>Clear</th>\n",
              "      <td>26.692044</td>\n",
              "      <td>1010.604620</td>\n",
              "      <td>79.561692</td>\n",
              "      <td>4.023172</td>\n",
              "      <td>134.399077</td>\n",
              "      <td>4.643538</td>\n",
              "    </tr>\n",
              "    <tr>\n",
              "      <th>Clouds</th>\n",
              "      <td>27.451605</td>\n",
              "      <td>1010.139500</td>\n",
              "      <td>79.750154</td>\n",
              "      <td>3.593657</td>\n",
              "      <td>150.351231</td>\n",
              "      <td>27.832462</td>\n",
              "    </tr>\n",
              "    <tr>\n",
              "      <th>Rain</th>\n",
              "      <td>26.320085</td>\n",
              "      <td>1009.717738</td>\n",
              "      <td>86.968077</td>\n",
              "      <td>3.703582</td>\n",
              "      <td>174.648000</td>\n",
              "      <td>38.013846</td>\n",
              "    </tr>\n",
              "    <tr>\n",
              "      <th>Thunderstorm</th>\n",
              "      <td>27.126639</td>\n",
              "      <td>1008.535856</td>\n",
              "      <td>85.938308</td>\n",
              "      <td>2.809393</td>\n",
              "      <td>179.334769</td>\n",
              "      <td>33.020615</td>\n",
              "    </tr>\n",
              "  </tbody>\n",
              "</table>\n",
              "</div>\n",
              "      <button class=\"colab-df-convert\" onclick=\"convertToInteractive('df-0b8b9db5-42e9-4a2a-abb1-8576b876a077')\"\n",
              "              title=\"Convert this dataframe to an interactive table.\"\n",
              "              style=\"display:none;\">\n",
              "        \n",
              "  <svg xmlns=\"http://www.w3.org/2000/svg\" height=\"24px\"viewBox=\"0 0 24 24\"\n",
              "       width=\"24px\">\n",
              "    <path d=\"M0 0h24v24H0V0z\" fill=\"none\"/>\n",
              "    <path d=\"M18.56 5.44l.94 2.06.94-2.06 2.06-.94-2.06-.94-.94-2.06-.94 2.06-2.06.94zm-11 1L8.5 8.5l.94-2.06 2.06-.94-2.06-.94L8.5 2.5l-.94 2.06-2.06.94zm10 10l.94 2.06.94-2.06 2.06-.94-2.06-.94-.94-2.06-.94 2.06-2.06.94z\"/><path d=\"M17.41 7.96l-1.37-1.37c-.4-.4-.92-.59-1.43-.59-.52 0-1.04.2-1.43.59L10.3 9.45l-7.72 7.72c-.78.78-.78 2.05 0 2.83L4 21.41c.39.39.9.59 1.41.59.51 0 1.02-.2 1.41-.59l7.78-7.78 2.81-2.81c.8-.78.8-2.07 0-2.86zM5.41 20L4 18.59l7.72-7.72 1.47 1.35L5.41 20z\"/>\n",
              "  </svg>\n",
              "      </button>\n",
              "      \n",
              "  <style>\n",
              "    .colab-df-container {\n",
              "      display:flex;\n",
              "      flex-wrap:wrap;\n",
              "      gap: 12px;\n",
              "    }\n",
              "\n",
              "    .colab-df-convert {\n",
              "      background-color: #E8F0FE;\n",
              "      border: none;\n",
              "      border-radius: 50%;\n",
              "      cursor: pointer;\n",
              "      display: none;\n",
              "      fill: #1967D2;\n",
              "      height: 32px;\n",
              "      padding: 0 0 0 0;\n",
              "      width: 32px;\n",
              "    }\n",
              "\n",
              "    .colab-df-convert:hover {\n",
              "      background-color: #E2EBFA;\n",
              "      box-shadow: 0px 1px 2px rgba(60, 64, 67, 0.3), 0px 1px 3px 1px rgba(60, 64, 67, 0.15);\n",
              "      fill: #174EA6;\n",
              "    }\n",
              "\n",
              "    [theme=dark] .colab-df-convert {\n",
              "      background-color: #3B4455;\n",
              "      fill: #D2E3FC;\n",
              "    }\n",
              "\n",
              "    [theme=dark] .colab-df-convert:hover {\n",
              "      background-color: #434B5C;\n",
              "      box-shadow: 0px 1px 3px 1px rgba(0, 0, 0, 0.15);\n",
              "      filter: drop-shadow(0px 1px 2px rgba(0, 0, 0, 0.3));\n",
              "      fill: #FFFFFF;\n",
              "    }\n",
              "  </style>\n",
              "\n",
              "      <script>\n",
              "        const buttonEl =\n",
              "          document.querySelector('#df-0b8b9db5-42e9-4a2a-abb1-8576b876a077 button.colab-df-convert');\n",
              "        buttonEl.style.display =\n",
              "          google.colab.kernel.accessAllowed ? 'block' : 'none';\n",
              "\n",
              "        async function convertToInteractive(key) {\n",
              "          const element = document.querySelector('#df-0b8b9db5-42e9-4a2a-abb1-8576b876a077');\n",
              "          const dataTable =\n",
              "            await google.colab.kernel.invokeFunction('convertToInteractive',\n",
              "                                                     [key], {});\n",
              "          if (!dataTable) return;\n",
              "\n",
              "          const docLinkHtml = 'Like what you see? Visit the ' +\n",
              "            '<a target=\"_blank\" href=https://colab.research.google.com/notebooks/data_table.ipynb>data table notebook</a>'\n",
              "            + ' to learn more about interactive tables.';\n",
              "          element.innerHTML = '';\n",
              "          dataTable['output_type'] = 'display_data';\n",
              "          await google.colab.output.renderOutput(dataTable, element);\n",
              "          const docLink = document.createElement('div');\n",
              "          docLink.innerHTML = docLinkHtml;\n",
              "          element.appendChild(docLink);\n",
              "        }\n",
              "      </script>\n",
              "    </div>\n",
              "  </div>\n",
              "  "
            ]
          },
          "metadata": {},
          "execution_count": 28
        }
      ],
      "source": [
        "#Menampilkan rata-rata fitur pada setiap target kategori\n",
        "df.groupby('weather_main').mean()"
      ]
    },
    {
      "cell_type": "markdown",
      "metadata": {
        "id": "TGV1XtNcGD0d"
      },
      "source": [
        "# Train Test Split"
      ]
    },
    {
      "cell_type": "code",
      "execution_count": null,
      "metadata": {
        "id": "nz3ame-hGD0d"
      },
      "outputs": [],
      "source": [
        "from sklearn.model_selection import train_test_split\n",
        "\n",
        "# Memilih fitur dan target\n",
        "features = ['temp', 'pressure', 'humidity', 'wind_speed', 'wind_deg', 'clouds_all']\n",
        "target = 'weather_main'\n",
        "X = df[features]\n",
        "y = df[target]"
      ]
    },
    {
      "cell_type": "code",
      "execution_count": null,
      "metadata": {
        "id": "ZcAvB4juGD0d"
      },
      "outputs": [],
      "source": [
        "from sklearn.preprocessing import StandardScaler\n",
        "# Normalisasi menggunakan Standard Scaling\n",
        "scaler = StandardScaler()\n",
        "X_scaled = scaler.fit_transform(X)"
      ]
    },
    {
      "cell_type": "code",
      "execution_count": null,
      "metadata": {
        "id": "8JdmKredGD0d"
      },
      "outputs": [],
      "source": [
        "#Membagi data test dan trainnya\n",
        "X_train, X_test, y_train, y_test = train_test_split(X_scaled, y, test_size=0.2, random_state=42)"
      ]
    },
    {
      "cell_type": "markdown",
      "metadata": {
        "id": "6K1cvIusGD0e"
      },
      "source": [
        "## Random Forest Classifier Model"
      ]
    },
    {
      "cell_type": "code",
      "execution_count": null,
      "metadata": {
        "id": "3f6Jq1MCGD0e"
      },
      "outputs": [],
      "source": [
        "from sklearn.ensemble import RandomForestClassifier\n",
        "from sklearn.metrics import accuracy_score, precision_score, recall_score, f1_score\n",
        "# Membuat model Random Forest Classifier\n",
        "rfc_classifier = RandomForestClassifier()\n",
        "rfc_classifier.fit(X_train, y_train)\n",
        "rfc_predictions = rfc_classifier.predict(X_test)\n",
        "\n",
        "# Membuat evaluasi model\n",
        "rfc_score = accuracy_score(y_test, rfc_predictions)\n",
        "precision_rfc = precision_score(y_test, rfc_predictions, average='macro')\n",
        "recall_rfc = recall_score(y_test, rfc_predictions, average='macro')\n",
        "f1_rfc = f1_score(y_test, rfc_predictions, average='macro')"
      ]
    },
    {
      "cell_type": "code",
      "execution_count": null,
      "metadata": {
        "id": "JQruR89IGD0e",
        "outputId": "72a08d63-74f6-4c46-aa2a-da7da4566e06",
        "colab": {
          "base_uri": "https://localhost:8080/"
        }
      },
      "outputs": [
        {
          "output_type": "stream",
          "name": "stdout",
          "text": [
            "Random Forest Classifier:\n",
            "Accuracy: 0.8176923076923077\n",
            "Precision: 0.8186679099386301\n",
            "Recall: 0.8185544118362911\n",
            "F1 Score: 0.8183691277385566\n"
          ]
        }
      ],
      "source": [
        "# Menampilkan evaluasi dari Model Random Forest Classifier\n",
        "print(\"Random Forest Classifier:\")\n",
        "print(\"Accuracy:\", rfc_score)\n",
        "print(\"Precision:\", precision_rfc)\n",
        "print(\"Recall:\", recall_rfc)\n",
        "print(\"F1 Score:\", f1_rfc)\n"
      ]
    },
    {
      "cell_type": "code",
      "execution_count": null,
      "metadata": {
        "id": "UHlXqpkrGD0e",
        "outputId": "b72de44e-7e8d-45df-d6ef-c6e258578d54",
        "colab": {
          "base_uri": "https://localhost:8080/",
          "height": 564
        }
      },
      "outputs": [
        {
          "output_type": "display_data",
          "data": {
            "text/plain": [
              "<Figure size 800x600 with 1 Axes>"
            ],
            "image/png": "[encoded data removed]"
          },
          "metadata": {}
        }
      ],
      "source": [
        "from sklearn.metrics import confusion_matrix\n",
        "\n",
        "#Menampilkan confussion matrix dari Model Random Forest Classifier\n",
        "cm_rfc = confusion_matrix(y_test, rfc_predictions)\n",
        "plt.figure(figsize=(8, 6))\n",
        "sb.heatmap(cm_rfc, annot=True, cmap=\"Blues\", fmt=\"d\", cbar=False)\n",
        "plt.title(\"Confusion Matrix - Random Forest Classifier\")\n",
        "plt.xlabel(\"Predicted Labels\")\n",
        "plt.ylabel(\"True Labels\")\n",
        "plt.show()"
      ]
    },
    {
      "cell_type": "code",
      "execution_count": null,
      "metadata": {
        "id": "hlXHzFEaGD0e",
        "outputId": "3729331d-b3b7-4b14-cf62-f66d263b35da",
        "colab": {
          "base_uri": "https://localhost:8080/"
        }
      },
      "outputs": [
        {
          "output_type": "stream",
          "name": "stdout",
          "text": [
            "Evaluation - Random Forest Classifier:\n",
            "              precision    recall  f1-score   support\n",
            "\n",
            "       Clear       1.00      1.00      1.00      2542\n",
            "      Clouds       0.78      0.74      0.76      2615\n",
            "        Rain       0.69      0.70      0.70      2582\n",
            "Thunderstorm       0.80      0.83      0.81      2661\n",
            "\n",
            "    accuracy                           0.82     10400\n",
            "   macro avg       0.82      0.82      0.82     10400\n",
            "weighted avg       0.82      0.82      0.82     10400\n",
            "\n",
            "\n"
          ]
        }
      ],
      "source": [
        "from sklearn.metrics import classification_report\n",
        "# Evaluasi model Random Forest Classifier\n",
        "print(\"Evaluation - Random Forest Classifier:\")\n",
        "print(classification_report(y_test, rfc_predictions))\n",
        "print()"
      ]
    },
    {
      "cell_type": "markdown",
      "metadata": {
        "id": "JdlIHPGnGD0e"
      },
      "source": [
        "## Decission Tree Classifier Model"
      ]
    },
    {
      "cell_type": "code",
      "execution_count": null,
      "metadata": {
        "id": "XthYAi6sGD0f"
      },
      "outputs": [],
      "source": [
        "from sklearn.tree import DecisionTreeClassifier\n",
        "# Membuat model Decision Tree\n",
        "dt_classifier = DecisionTreeClassifier()\n",
        "dt_classifier.fit(X_train, y_train)\n",
        "dt_predictions = dt_classifier.predict(X_test)\n",
        "\n",
        "# Membuat evaluasi model\n",
        "dt_score = accuracy_score(y_test, dt_predictions)\n",
        "precision_dt = precision_score(y_test, dt_predictions, average='macro')\n",
        "recall_dt = recall_score(y_test, dt_predictions, average='macro')\n",
        "f1_dt = f1_score(y_test, dt_predictions, average='macro')"
      ]
    },
    {
      "cell_type": "code",
      "execution_count": null,
      "metadata": {
        "id": "f1wnK05vGD0f",
        "outputId": "26a6836f-6930-44b9-bf3c-3923662f499f",
        "colab": {
          "base_uri": "https://localhost:8080/"
        }
      },
      "outputs": [
        {
          "output_type": "stream",
          "name": "stdout",
          "text": [
            "Decission Tree:\n",
            "Accuracy: 0.7497115384615385\n",
            "Precision: 0.7522562125298231\n",
            "Recall: 0.7511705685931493\n",
            "F1 Score: 0.7515829750858986\n"
          ]
        }
      ],
      "source": [
        "#Menampilkan evaluasi dari Model Decission Tree\n",
        "print(\"Decission Tree:\")\n",
        "print(\"Accuracy:\", dt_score)\n",
        "print(\"Precision:\", precision_dt)\n",
        "print(\"Recall:\", recall_dt)\n",
        "print(\"F1 Score:\", f1_dt)"
      ]
    },
    {
      "cell_type": "code",
      "execution_count": null,
      "metadata": {
        "id": "44LtGgbzGD0u",
        "outputId": "40baacc4-2ab2-4073-89f7-cd55fee9f58c",
        "colab": {
          "base_uri": "https://localhost:8080/",
          "height": 564
        }
      },
      "outputs": [
        {
          "output_type": "display_data",
          "data": {
            "text/plain": [
              "<Figure size 800x600 with 1 Axes>"
            ],
            "image/png": "[encoded data removed]"
          },
          "metadata": {}
        }
      ],
      "source": [
        "#Menampilkan confussion matrix dari Model Decission Tree\n",
        "cm_dt = confusion_matrix(y_test, dt_predictions)\n",
        "plt.figure(figsize=(8, 6))\n",
        "sb.heatmap(cm_dt, annot=True, cmap=\"Blues\", fmt=\"d\", cbar=False)\n",
        "plt.title(\"Confusion Matrix - Decission Tree\")\n",
        "plt.xlabel(\"Predicted Labels\")\n",
        "plt.ylabel(\"True Labels\")\n",
        "plt.show()"
      ]
    },
    {
      "cell_type": "code",
      "execution_count": null,
      "metadata": {
        "id": "UEhrJKbqGD0u",
        "outputId": "af6fcefb-dd5a-49cb-fe4c-02d07b325029",
        "colab": {
          "base_uri": "https://localhost:8080/"
        }
      },
      "outputs": [
        {
          "output_type": "stream",
          "name": "stdout",
          "text": [
            "Evaluation - Decision Tree:\n",
            "              precision    recall  f1-score   support\n",
            "\n",
            "       Clear       1.00      1.00      1.00      2542\n",
            "      Clouds       0.68      0.66      0.67      2615\n",
            "        Rain       0.59      0.62      0.61      2582\n",
            "Thunderstorm       0.74      0.72      0.73      2661\n",
            "\n",
            "    accuracy                           0.75     10400\n",
            "   macro avg       0.75      0.75      0.75     10400\n",
            "weighted avg       0.75      0.75      0.75     10400\n",
            "\n",
            "\n"
          ]
        }
      ],
      "source": [
        "# Evaluasi model Decision Tree\n",
        "print(\"Evaluation - Decision Tree:\")\n",
        "print(classification_report(y_test, dt_predictions))\n",
        "print()"
      ]
    },
    {
      "cell_type": "markdown",
      "metadata": {
        "id": "uwQ-wMCJGD0u"
      },
      "source": [
        "## Gaussian Naive Bayes Model"
      ]
    },
    {
      "cell_type": "code",
      "execution_count": null,
      "metadata": {
        "id": "DLhJJYTUGD0u"
      },
      "outputs": [],
      "source": [
        "from sklearn.naive_bayes import GaussianNB\n",
        "# Membuat model Naive Bayes\n",
        "nb_classifier = GaussianNB()\n",
        "nb_classifier.fit(X_train, y_train)\n",
        "nb_predictions = nb_classifier.predict(X_test)\n",
        "\n",
        "# Membuat evaluasi model\n",
        "nb_score = accuracy_score(y_test, nb_predictions)\n",
        "precision_nb = precision_score(y_test, nb_predictions, average='macro')\n",
        "recall_nb = recall_score(y_test, nb_predictions, average='macro')\n",
        "f1_nb = f1_score(y_test, nb_predictions, average='macro')"
      ]
    },
    {
      "cell_type": "code",
      "execution_count": null,
      "metadata": {
        "id": "EbjyT4h5GD0u",
        "outputId": "245180dd-a08f-41d6-ca6b-a18e15f69383",
        "colab": {
          "base_uri": "https://localhost:8080/"
        }
      },
      "outputs": [
        {
          "output_type": "stream",
          "name": "stdout",
          "text": [
            "Naive Bayes Evaluation:\n",
            "Accuracy: 0.6745192307692308\n",
            "Precision: 0.6839820253581322\n",
            "Recall: 0.6764549493926527\n",
            "F1 Score: 0.6785514743962049\n"
          ]
        }
      ],
      "source": [
        "# Menampilkan evaluasi dari Model Naive Bayes\n",
        "print(\"Naive Bayes Evaluation:\")\n",
        "print(\"Accuracy:\", nb_score)\n",
        "print(\"Precision:\", precision_nb)\n",
        "print(\"Recall:\", recall_nb)\n",
        "print(\"F1 Score:\", f1_nb)"
      ]
    },
    {
      "cell_type": "code",
      "execution_count": null,
      "metadata": {
        "id": "a-tyKHciGD0v",
        "outputId": "618a1fea-43fa-4e6c-8a4e-ff73052194a9",
        "colab": {
          "base_uri": "https://localhost:8080/",
          "height": 564
        }
      },
      "outputs": [
        {
          "output_type": "display_data",
          "data": {
            "text/plain": [
              "<Figure size 800x600 with 1 Axes>"
            ],
            "image/png": "[encoded data removed]"
          },
          "metadata": {}
        }
      ],
      "source": [
        "# Menampilkan confussion matrix dari Model Naive Bayes\n",
        "cm_nb = confusion_matrix(y_test, nb_predictions)\n",
        "plt.figure(figsize=(8, 6))\n",
        "sb.heatmap(cm_nb, annot=True, cmap=\"Blues\", fmt=\"d\", cbar=False)\n",
        "plt.title(\"Confusion Matrix - Naive Bayes\")\n",
        "plt.xlabel(\"Predicted Labels\")\n",
        "plt.ylabel(\"True Labels\")\n",
        "plt.show()"
      ]
    },
    {
      "cell_type": "code",
      "execution_count": null,
      "metadata": {
        "id": "Do_ZMYUvGD0v",
        "outputId": "85dde840-0310-4e54-ebdc-2bbb2e197913",
        "colab": {
          "base_uri": "https://localhost:8080/"
        }
      },
      "outputs": [
        {
          "output_type": "stream",
          "name": "stdout",
          "text": [
            "Evaluation - Naive Bayes:\n",
            "              precision    recall  f1-score   support\n",
            "\n",
            "       Clear       0.99      0.97      0.98      2542\n",
            "      Clouds       0.66      0.57      0.61      2615\n",
            "        Rain       0.56      0.55      0.55      2582\n",
            "Thunderstorm       0.53      0.62      0.57      2661\n",
            "\n",
            "    accuracy                           0.67     10400\n",
            "   macro avg       0.68      0.68      0.68     10400\n",
            "weighted avg       0.68      0.67      0.68     10400\n",
            "\n",
            "\n"
          ]
        }
      ],
      "source": [
        "# Evaluasi model Naive Bayes\n",
        "print(\"Evaluation - Naive Bayes:\")\n",
        "print(classification_report(y_test, nb_predictions))\n",
        "print()"
      ]
    },
    {
      "cell_type": "markdown",
      "metadata": {
        "id": "xeHOSzx1GD0v"
      },
      "source": [
        "## Support Vector Machine Model"
      ]
    },
    {
      "cell_type": "code",
      "execution_count": null,
      "metadata": {
        "id": "HSOXREEDGD0v"
      },
      "outputs": [],
      "source": [
        "from sklearn.svm import SVC\n",
        "# Membuat model Support Vector Machine\n",
        "svm_classifier = SVC()\n",
        "svm_classifier.fit(X_train, y_train)\n",
        "svm_predictions = svm_classifier.predict(X_test)\n",
        "\n",
        "# Membuat evaluasi model\n",
        "svm_score = accuracy_score(y_test, svm_predictions)\n",
        "precision_svm = precision_score(y_test, svm_predictions, average='macro')\n",
        "recall_svm = recall_score(y_test, svm_predictions, average='macro')\n",
        "f1_svm = f1_score(y_test, svm_predictions, average='macro')"
      ]
    },
    {
      "cell_type": "code",
      "execution_count": null,
      "metadata": {
        "id": "4-1UBi3gGD0v",
        "outputId": "4cba79d5-8823-4f5e-b767-614da42a6d54",
        "colab": {
          "base_uri": "https://localhost:8080/"
        }
      },
      "outputs": [
        {
          "output_type": "stream",
          "name": "stdout",
          "text": [
            "Support Vector Machine:\n",
            "Accuracy: 0.7158653846153846\n",
            "Precision: 0.7287130795379584\n",
            "Recall: 0.7170119157595376\n",
            "F1 Score: 0.7157848111141967\n"
          ]
        }
      ],
      "source": [
        "# Menampilkan evaluasi dari Model Support Vector Machine\n",
        "print(\"Support Vector Machine:\")\n",
        "print(\"Accuracy:\", svm_score)\n",
        "print(\"Precision:\", precision_svm)\n",
        "print(\"Recall:\", recall_svm)\n",
        "print(\"F1 Score:\", f1_svm)"
      ]
    },
    {
      "cell_type": "code",
      "execution_count": null,
      "metadata": {
        "id": "EOqhXGHgGD0v",
        "outputId": "a74e0f34-1c3b-46ce-a3d1-adb61a596672",
        "colab": {
          "base_uri": "https://localhost:8080/",
          "height": 564
        }
      },
      "outputs": [
        {
          "output_type": "display_data",
          "data": {
            "text/plain": [
              "<Figure size 800x600 with 1 Axes>"
            ],
            "image/png": "[encoded data removed]"
          },
          "metadata": {}
        }
      ],
      "source": [
        "cm_svm = confusion_matrix(y_test, svm_predictions)\n",
        "plt.figure(figsize=(8, 6))\n",
        "sb.heatmap(cm_svm, annot=True, cmap=\"Blues\", fmt=\"d\", cbar=False)\n",
        "plt.title(\"Confusion Matrix - Support Vector Machine\")\n",
        "plt.xlabel(\"Predicted Labels\")\n",
        "plt.ylabel(\"True Labels\")\n",
        "plt.show()"
      ]
    },
    {
      "cell_type": "code",
      "execution_count": null,
      "metadata": {
        "id": "rjt57CKGGD0w",
        "outputId": "a09ee115-77cc-4871-f4d7-c92415cd5ad9",
        "colab": {
          "base_uri": "https://localhost:8080/"
        }
      },
      "outputs": [
        {
          "output_type": "stream",
          "name": "stdout",
          "text": [
            "Evaluation - Support Vector Machine:\n",
            "              precision    recall  f1-score   support\n",
            "\n",
            "       Clear       0.99      1.00      1.00      2542\n",
            "      Clouds       0.73      0.60      0.66      2615\n",
            "        Rain       0.63      0.51      0.56      2582\n",
            "Thunderstorm       0.56      0.76      0.64      2661\n",
            "\n",
            "    accuracy                           0.72     10400\n",
            "   macro avg       0.73      0.72      0.72     10400\n",
            "weighted avg       0.73      0.72      0.71     10400\n",
            "\n",
            "\n"
          ]
        }
      ],
      "source": [
        "# Evaluasi model Support Vector Machine\n",
        "print(\"Evaluation - Support Vector Machine:\")\n",
        "print(classification_report(y_test, svm_predictions))\n",
        "print()"
      ]
    },
    {
      "cell_type": "markdown",
      "metadata": {
        "id": "kslXsWZfGD0w"
      },
      "source": [
        "## Perbandingan akurasi terbaik dari 4 model"
      ]
    },
    {
      "cell_type": "code",
      "execution_count": null,
      "metadata": {
        "id": "NEMOyxDiGD0w",
        "outputId": "5093f4a2-7482-4739-f155-be0c163384db",
        "colab": {
          "base_uri": "https://localhost:8080/"
        }
      },
      "outputs": [
        {
          "output_type": "stream",
          "name": "stdout",
          "text": [
            "Random Forest Score: 0.8176923076923077\n",
            "Decision Tree Score: 0.7497115384615385\n",
            "Naive Bayes Score: 0.6745192307692308\n",
            "SVM Score: 0.7158653846153846\n"
          ]
        }
      ],
      "source": [
        "# Menampilkan skor masing-masing model\n",
        "print(\"Random Forest Score:\", rfc_score)\n",
        "print(\"Decision Tree Score:\", dt_score)\n",
        "print(\"Naive Bayes Score:\", nb_score)\n",
        "print(\"SVM Score:\", svm_score)"
      ]
    },
    {
      "cell_type": "markdown",
      "metadata": {
        "id": "M4bRE5GPGD0w"
      },
      "source": [
        "## Percobaan prediksi menggunakan masing-masing model"
      ]
    },
    {
      "cell_type": "code",
      "execution_count": null,
      "metadata": {
        "id": "nz_Pf4bVGD0w",
        "outputId": "563315fc-6698-42da-bd34-325fcab037a2",
        "colab": {
          "base_uri": "https://localhost:8080/"
        }
      },
      "outputs": [
        {
          "output_type": "stream",
          "name": "stdout",
          "text": [
            "Prediction (Random Forest Classifier): ['Rain']\n"
          ]
        }
      ],
      "source": [
        "# Contoh prediksi menggunakan model Decision Tree\n",
        "example_data = [[27.04, 1010, 82, 1.71, 274, 76]]\n",
        "rfc_prediction_example = rfc_classifier.predict(example_data)\n",
        "print(\"Prediction (Random Forest Classifier):\", rfc_prediction_example)"
      ]
    },
    {
      "cell_type": "code",
      "execution_count": null,
      "metadata": {
        "id": "pAb4wFQyGD0x",
        "outputId": "2ecc5eea-13df-4633-b7f7-dd7f9d816849",
        "colab": {
          "base_uri": "https://localhost:8080/"
        }
      },
      "outputs": [
        {
          "output_type": "stream",
          "name": "stdout",
          "text": [
            "Prediction (Decission Tree): ['Clouds']\n"
          ]
        }
      ],
      "source": [
        "# Contoh prediksi menggunakan model Decision Tree\n",
        "example_data = [[27.04, 1010, 82, 1.71, 274, 76]]\n",
        "dt_prediction_example = dt_classifier.predict(example_data)\n",
        "print(\"Prediction (Decission Tree):\", dt_prediction_example)"
      ]
    },
    {
      "cell_type": "code",
      "execution_count": null,
      "metadata": {
        "id": "uUuLq13SGD0x",
        "outputId": "41e464d1-17b8-45ad-f32a-54b224c9dcbc",
        "colab": {
          "base_uri": "https://localhost:8080/"
        }
      },
      "outputs": [
        {
          "output_type": "stream",
          "name": "stdout",
          "text": [
            "Prediction (Naive Bayes): ['Rain']\n"
          ]
        }
      ],
      "source": [
        "# Contoh prediksi menggunakan model Decision Tree\n",
        "example_data = [[27.04, 1010, 82, 1.71, 274, 76]]\n",
        "nb_prediction_example = nb_classifier.predict(example_data)\n",
        "print(\"Prediction (Naive Bayes):\", nb_prediction_example)"
      ]
    },
    {
      "cell_type": "code",
      "execution_count": null,
      "metadata": {
        "id": "R4JMhTfpGD0x",
        "outputId": "eb842454-d587-455d-df7d-ffca90bf03dd",
        "colab": {
          "base_uri": "https://localhost:8080/"
        }
      },
      "outputs": [
        {
          "output_type": "stream",
          "name": "stdout",
          "text": [
            "Prediction (Support Vector Machine): ['Clouds']\n"
          ]
        }
      ],
      "source": [
        "# Contoh prediksi menggunakan model Decision Tree\n",
        "example_data = [[27.04, 1010, 82, 1.71, 274, 76]]\n",
        "svm_prediction_example = svm_classifier.predict(example_data)\n",
        "print(\"Prediction (Support Vector Machine):\", svm_prediction_example)"
      ]
    }
  ],
  "metadata": {
    "kernelspec": {
      "display_name": "Python 3",
      "language": "python",
      "name": "python3"
    },
    "language_info": {
      "codemirror_mode": {
        "name": "ipython",
        "version": 3
      },
      "file_extension": ".py",
      "mimetype": "text/x-python",
      "name": "python",
      "nbconvert_exporter": "python",
      "pygments_lexer": "ipython3",
      "version": "3.9.12"
    },
    "orig_nbformat": 4,
    "colab": {
      "provenance": []
    }
  },
  "nbformat": 4,
  "nbformat_minor": 0
}
