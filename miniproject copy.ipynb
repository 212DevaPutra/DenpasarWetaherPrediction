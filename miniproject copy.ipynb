{
 "cells": [
  {
   "attachments": {},
   "cell_type": "markdown",
   "metadata": {},
   "source": [
    "## Weather Prediction"
   ]
  },
  {
   "attachments": {},
   "cell_type": "markdown",
   "metadata": {},
   "source": [
    "**Anggota Kelompok**\n",
    "\n",
    "202010370311212 – Deva Putra Setya Pratama\n",
    "\n",
    "202010370311216 – Niko Silabest\n",
    "\n",
    "202010370311126 – Qulubil Hamdi Abdillah U\n",
    "\n",
    "**DATA MINING TASK**\n",
    "\n",
    "Data mining task yang akan digunakan adalah klasifikasi. Klasifikasi pada dataset Denpasar, Bali Historical Weather Data adalah untuk mengelompokkan data cuaca berdasarkan berbagai atribut dan variabel cuaca yang terdapat dalam dataset tersebut. Dengan menggunakan algoritma klasifikasi, seperti Random Forest Classifier,  Decision Tree, Naive Bayes, atau Support Vector Machines (SVM), tujuan utama dari fungsi ini adalah untuk mengidentifikasi pola-pola atau kategori-kategori tertentu dalam data cuaca yang dapat digunakan untuk mengklasifikasikan cuaca dalam kelompok atau kategori yang sudah ditentukan."
   ]
  },
  {
   "attachments": {},
   "cell_type": "markdown",
   "metadata": {},
   "source": [
    "## Exploratory Data Analysis (EDA)\n",
    "\n"
   ]
  },
  {
   "attachments": {},
   "cell_type": "markdown",
   "metadata": {},
   "source": [
    "**Melakukan import untuk semua library yang akan digunakan pada mini project**"
   ]
  },
  {
   "cell_type": "code",
   "execution_count": 41,
   "metadata": {},
   "outputs": [],
   "source": [
    "import pandas as pd\n",
    "import numpy as np\n",
    "import matplotlib.pyplot as plt\n",
    "from sklearn.model_selection import train_test_split\n",
    "from sklearn.decomposition import PCA\n",
    "from sklearn.manifold import TSNE\n",
    "import seaborn as sb"
   ]
  },
  {
   "cell_type": "code",
   "execution_count": 42,
   "metadata": {},
   "outputs": [
    {
     "data": {
      "text/html": [
       "<div>\n",
       "<style scoped>\n",
       "    .dataframe tbody tr th:only-of-type {\n",
       "        vertical-align: middle;\n",
       "    }\n",
       "\n",
       "    .dataframe tbody tr th {\n",
       "        vertical-align: top;\n",
       "    }\n",
       "\n",
       "    .dataframe thead th {\n",
       "        text-align: right;\n",
       "    }\n",
       "</style>\n",
       "<table border=\"1\" class=\"dataframe\">\n",
       "  <thead>\n",
       "    <tr style=\"text-align: right;\">\n",
       "      <th></th>\n",
       "      <th>dt</th>\n",
       "      <th>dt_iso</th>\n",
       "      <th>timezone</th>\n",
       "      <th>city_name</th>\n",
       "      <th>lat</th>\n",
       "      <th>lon</th>\n",
       "      <th>temp</th>\n",
       "      <th>temp_min</th>\n",
       "      <th>temp_max</th>\n",
       "      <th>pressure</th>\n",
       "      <th>...</th>\n",
       "      <th>snow_3h</th>\n",
       "      <th>snow_6h</th>\n",
       "      <th>snow_12h</th>\n",
       "      <th>snow_24h</th>\n",
       "      <th>snow_today</th>\n",
       "      <th>clouds_all</th>\n",
       "      <th>weather_id</th>\n",
       "      <th>weather_main</th>\n",
       "      <th>weather_description</th>\n",
       "      <th>weather_icon</th>\n",
       "    </tr>\n",
       "  </thead>\n",
       "  <tbody>\n",
       "    <tr>\n",
       "      <th>0</th>\n",
       "      <td>631152000</td>\n",
       "      <td>1990-01-01 00:00:00 +0000 UTC</td>\n",
       "      <td>28800</td>\n",
       "      <td>Denpasar</td>\n",
       "      <td>-8.652497</td>\n",
       "      <td>115.219117</td>\n",
       "      <td>25.82</td>\n",
       "      <td>25.82</td>\n",
       "      <td>25.82</td>\n",
       "      <td>1010.0</td>\n",
       "      <td>...</td>\n",
       "      <td>NaN</td>\n",
       "      <td>NaN</td>\n",
       "      <td>NaN</td>\n",
       "      <td>NaN</td>\n",
       "      <td>NaN</td>\n",
       "      <td>98</td>\n",
       "      <td>500</td>\n",
       "      <td>Rain</td>\n",
       "      <td>light rain</td>\n",
       "      <td>10d</td>\n",
       "    </tr>\n",
       "    <tr>\n",
       "      <th>1</th>\n",
       "      <td>631155600</td>\n",
       "      <td>1990-01-01 01:00:00 +0000 UTC</td>\n",
       "      <td>28800</td>\n",
       "      <td>Denpasar</td>\n",
       "      <td>-8.652497</td>\n",
       "      <td>115.219117</td>\n",
       "      <td>26.20</td>\n",
       "      <td>26.20</td>\n",
       "      <td>26.20</td>\n",
       "      <td>1011.0</td>\n",
       "      <td>...</td>\n",
       "      <td>NaN</td>\n",
       "      <td>NaN</td>\n",
       "      <td>NaN</td>\n",
       "      <td>NaN</td>\n",
       "      <td>NaN</td>\n",
       "      <td>91</td>\n",
       "      <td>500</td>\n",
       "      <td>Rain</td>\n",
       "      <td>light rain</td>\n",
       "      <td>10d</td>\n",
       "    </tr>\n",
       "    <tr>\n",
       "      <th>2</th>\n",
       "      <td>631159200</td>\n",
       "      <td>1990-01-01 02:00:00 +0000 UTC</td>\n",
       "      <td>28800</td>\n",
       "      <td>Denpasar</td>\n",
       "      <td>-8.652497</td>\n",
       "      <td>115.219117</td>\n",
       "      <td>26.45</td>\n",
       "      <td>26.45</td>\n",
       "      <td>26.45</td>\n",
       "      <td>1011.0</td>\n",
       "      <td>...</td>\n",
       "      <td>NaN</td>\n",
       "      <td>NaN</td>\n",
       "      <td>NaN</td>\n",
       "      <td>NaN</td>\n",
       "      <td>NaN</td>\n",
       "      <td>94</td>\n",
       "      <td>500</td>\n",
       "      <td>Rain</td>\n",
       "      <td>light rain</td>\n",
       "      <td>10d</td>\n",
       "    </tr>\n",
       "    <tr>\n",
       "      <th>3</th>\n",
       "      <td>631162800</td>\n",
       "      <td>1990-01-01 03:00:00 +0000 UTC</td>\n",
       "      <td>28800</td>\n",
       "      <td>Denpasar</td>\n",
       "      <td>-8.652497</td>\n",
       "      <td>115.219117</td>\n",
       "      <td>26.80</td>\n",
       "      <td>26.80</td>\n",
       "      <td>26.80</td>\n",
       "      <td>1011.0</td>\n",
       "      <td>...</td>\n",
       "      <td>NaN</td>\n",
       "      <td>NaN</td>\n",
       "      <td>NaN</td>\n",
       "      <td>NaN</td>\n",
       "      <td>NaN</td>\n",
       "      <td>94</td>\n",
       "      <td>500</td>\n",
       "      <td>Rain</td>\n",
       "      <td>light rain</td>\n",
       "      <td>10d</td>\n",
       "    </tr>\n",
       "    <tr>\n",
       "      <th>4</th>\n",
       "      <td>631166400</td>\n",
       "      <td>1990-01-01 04:00:00 +0000 UTC</td>\n",
       "      <td>28800</td>\n",
       "      <td>Denpasar</td>\n",
       "      <td>-8.652497</td>\n",
       "      <td>115.219117</td>\n",
       "      <td>27.04</td>\n",
       "      <td>27.04</td>\n",
       "      <td>27.04</td>\n",
       "      <td>1010.0</td>\n",
       "      <td>...</td>\n",
       "      <td>NaN</td>\n",
       "      <td>NaN</td>\n",
       "      <td>NaN</td>\n",
       "      <td>NaN</td>\n",
       "      <td>NaN</td>\n",
       "      <td>76</td>\n",
       "      <td>803</td>\n",
       "      <td>Clouds</td>\n",
       "      <td>broken clouds</td>\n",
       "      <td>04d</td>\n",
       "    </tr>\n",
       "  </tbody>\n",
       "</table>\n",
       "<p>5 rows × 32 columns</p>\n",
       "</div>"
      ],
      "text/plain": [
       "          dt                         dt_iso  timezone city_name       lat   \n",
       "0  631152000  1990-01-01 00:00:00 +0000 UTC     28800  Denpasar -8.652497  \\\n",
       "1  631155600  1990-01-01 01:00:00 +0000 UTC     28800  Denpasar -8.652497   \n",
       "2  631159200  1990-01-01 02:00:00 +0000 UTC     28800  Denpasar -8.652497   \n",
       "3  631162800  1990-01-01 03:00:00 +0000 UTC     28800  Denpasar -8.652497   \n",
       "4  631166400  1990-01-01 04:00:00 +0000 UTC     28800  Denpasar -8.652497   \n",
       "\n",
       "          lon   temp  temp_min  temp_max  pressure  ...  snow_3h  snow_6h   \n",
       "0  115.219117  25.82     25.82     25.82    1010.0  ...      NaN      NaN  \\\n",
       "1  115.219117  26.20     26.20     26.20    1011.0  ...      NaN      NaN   \n",
       "2  115.219117  26.45     26.45     26.45    1011.0  ...      NaN      NaN   \n",
       "3  115.219117  26.80     26.80     26.80    1011.0  ...      NaN      NaN   \n",
       "4  115.219117  27.04     27.04     27.04    1010.0  ...      NaN      NaN   \n",
       "\n",
       "   snow_12h  snow_24h  snow_today  clouds_all  weather_id  weather_main   \n",
       "0       NaN       NaN         NaN          98         500          Rain  \\\n",
       "1       NaN       NaN         NaN          91         500          Rain   \n",
       "2       NaN       NaN         NaN          94         500          Rain   \n",
       "3       NaN       NaN         NaN          94         500          Rain   \n",
       "4       NaN       NaN         NaN          76         803        Clouds   \n",
       "\n",
       "   weather_description  weather_icon  \n",
       "0           light rain           10d  \n",
       "1           light rain           10d  \n",
       "2           light rain           10d  \n",
       "3           light rain           10d  \n",
       "4        broken clouds           04d  \n",
       "\n",
       "[5 rows x 32 columns]"
      ]
     },
     "execution_count": 42,
     "metadata": {},
     "output_type": "execute_result"
    }
   ],
   "source": [
    "# Membaca file\n",
    "df = pd.read_csv('openweatherdata-denpasar-1990-2020.csv')\n",
    "\n",
    "# Menampilkan 5 data urutan paling atas\n",
    "df.head()"
   ]
  },
  {
   "attachments": {},
   "cell_type": "markdown",
   "metadata": {},
   "source": [
    "## Data Preprocessing"
   ]
  },
  {
   "attachments": {},
   "cell_type": "markdown",
   "metadata": {},
   "source": [
    "**Feature Selection (Pemilihan fitur) dan menghapus fitur yang tidak digunakan**"
   ]
  },
  {
   "cell_type": "code",
   "execution_count": 43,
   "metadata": {},
   "outputs": [
    {
     "name": "stdout",
     "output_type": "stream",
     "text": [
      "\n",
      "Rows and Columns:\n",
      "(264924, 7)\n",
      "\n",
      "Null Values %:\n",
      "temp            0.0\n",
      "pressure        0.0\n",
      "humidity        0.0\n",
      "wind_speed      0.0\n",
      "wind_deg        0.0\n",
      "clouds_all      0.0\n",
      "weather_main    0.0\n",
      "dtype: float64\n"
     ]
    }
   ],
   "source": [
    "#Memilihi fitur-fitur yang akan digunakan \n",
    "usecols = ['temp', 'pressure', 'humidity', 'wind_speed', 'wind_deg', 'clouds_all', 'weather_main']\n",
    "\n",
    "#Menghapus fitur yang tidak digunakan\n",
    "df = pd.DataFrame(df, columns=usecols)\n",
    "\n",
    "#Mengecek nulla value\n",
    "print(f\"\\nRows and Columns:\\n{df.shape}\")\n",
    "print(f\"\\nNull Values %:\\n{df.apply(lambda x: sum(x.isnull()) / len(df))}\")"
   ]
  },
  {
   "attachments": {},
   "cell_type": "markdown",
   "metadata": {},
   "source": [
    "**Drop Duplicated Column**"
   ]
  },
  {
   "cell_type": "code",
   "execution_count": 44,
   "metadata": {},
   "outputs": [
    {
     "name": "stdout",
     "output_type": "stream",
     "text": [
      "\n",
      "Rows and Columns:\n",
      "(264924, 7)\n"
     ]
    }
   ],
   "source": [
    "#Menampilkan jumlah data sebelum dilakukan drop pada data duplikat\n",
    "print(f\"\\nRows and Columns:\\n{df.shape}\")"
   ]
  },
  {
   "cell_type": "code",
   "execution_count": 45,
   "metadata": {},
   "outputs": [
    {
     "data": {
      "text/html": [
       "<div>\n",
       "<style scoped>\n",
       "    .dataframe tbody tr th:only-of-type {\n",
       "        vertical-align: middle;\n",
       "    }\n",
       "\n",
       "    .dataframe tbody tr th {\n",
       "        vertical-align: top;\n",
       "    }\n",
       "\n",
       "    .dataframe thead th {\n",
       "        text-align: right;\n",
       "    }\n",
       "</style>\n",
       "<table border=\"1\" class=\"dataframe\">\n",
       "  <thead>\n",
       "    <tr style=\"text-align: right;\">\n",
       "      <th></th>\n",
       "      <th>temp</th>\n",
       "      <th>pressure</th>\n",
       "      <th>humidity</th>\n",
       "      <th>wind_speed</th>\n",
       "      <th>wind_deg</th>\n",
       "      <th>clouds_all</th>\n",
       "      <th>weather_main</th>\n",
       "    </tr>\n",
       "  </thead>\n",
       "  <tbody>\n",
       "    <tr>\n",
       "      <th>0</th>\n",
       "      <td>25.82</td>\n",
       "      <td>1010.0</td>\n",
       "      <td>86</td>\n",
       "      <td>1.36</td>\n",
       "      <td>225</td>\n",
       "      <td>98</td>\n",
       "      <td>Rain</td>\n",
       "    </tr>\n",
       "    <tr>\n",
       "      <th>1</th>\n",
       "      <td>26.20</td>\n",
       "      <td>1011.0</td>\n",
       "      <td>84</td>\n",
       "      <td>2.09</td>\n",
       "      <td>247</td>\n",
       "      <td>91</td>\n",
       "      <td>Rain</td>\n",
       "    </tr>\n",
       "    <tr>\n",
       "      <th>2</th>\n",
       "      <td>26.45</td>\n",
       "      <td>1011.0</td>\n",
       "      <td>84</td>\n",
       "      <td>2.44</td>\n",
       "      <td>262</td>\n",
       "      <td>94</td>\n",
       "      <td>Rain</td>\n",
       "    </tr>\n",
       "    <tr>\n",
       "      <th>3</th>\n",
       "      <td>26.80</td>\n",
       "      <td>1011.0</td>\n",
       "      <td>82</td>\n",
       "      <td>2.29</td>\n",
       "      <td>271</td>\n",
       "      <td>94</td>\n",
       "      <td>Rain</td>\n",
       "    </tr>\n",
       "    <tr>\n",
       "      <th>4</th>\n",
       "      <td>27.04</td>\n",
       "      <td>1010.0</td>\n",
       "      <td>82</td>\n",
       "      <td>1.71</td>\n",
       "      <td>274</td>\n",
       "      <td>76</td>\n",
       "      <td>Clouds</td>\n",
       "    </tr>\n",
       "    <tr>\n",
       "      <th>...</th>\n",
       "      <td>...</td>\n",
       "      <td>...</td>\n",
       "      <td>...</td>\n",
       "      <td>...</td>\n",
       "      <td>...</td>\n",
       "      <td>...</td>\n",
       "      <td>...</td>\n",
       "    </tr>\n",
       "    <tr>\n",
       "      <th>264919</th>\n",
       "      <td>27.00</td>\n",
       "      <td>1007.0</td>\n",
       "      <td>94</td>\n",
       "      <td>4.10</td>\n",
       "      <td>300</td>\n",
       "      <td>75</td>\n",
       "      <td>Clouds</td>\n",
       "    </tr>\n",
       "    <tr>\n",
       "      <th>264920</th>\n",
       "      <td>27.00</td>\n",
       "      <td>1007.0</td>\n",
       "      <td>94</td>\n",
       "      <td>5.70</td>\n",
       "      <td>300</td>\n",
       "      <td>75</td>\n",
       "      <td>Clouds</td>\n",
       "    </tr>\n",
       "    <tr>\n",
       "      <th>264921</th>\n",
       "      <td>28.00</td>\n",
       "      <td>1007.0</td>\n",
       "      <td>83</td>\n",
       "      <td>6.70</td>\n",
       "      <td>290</td>\n",
       "      <td>75</td>\n",
       "      <td>Clouds</td>\n",
       "    </tr>\n",
       "    <tr>\n",
       "      <th>264922</th>\n",
       "      <td>28.00</td>\n",
       "      <td>1007.0</td>\n",
       "      <td>83</td>\n",
       "      <td>6.20</td>\n",
       "      <td>290</td>\n",
       "      <td>40</td>\n",
       "      <td>Clouds</td>\n",
       "    </tr>\n",
       "    <tr>\n",
       "      <th>264923</th>\n",
       "      <td>28.00</td>\n",
       "      <td>1008.0</td>\n",
       "      <td>83</td>\n",
       "      <td>5.70</td>\n",
       "      <td>300</td>\n",
       "      <td>40</td>\n",
       "      <td>Clouds</td>\n",
       "    </tr>\n",
       "  </tbody>\n",
       "</table>\n",
       "<p>232767 rows × 7 columns</p>\n",
       "</div>"
      ],
      "text/plain": [
       "         temp  pressure  humidity  wind_speed  wind_deg  clouds_all   \n",
       "0       25.82    1010.0        86        1.36       225          98  \\\n",
       "1       26.20    1011.0        84        2.09       247          91   \n",
       "2       26.45    1011.0        84        2.44       262          94   \n",
       "3       26.80    1011.0        82        2.29       271          94   \n",
       "4       27.04    1010.0        82        1.71       274          76   \n",
       "...       ...       ...       ...         ...       ...         ...   \n",
       "264919  27.00    1007.0        94        4.10       300          75   \n",
       "264920  27.00    1007.0        94        5.70       300          75   \n",
       "264921  28.00    1007.0        83        6.70       290          75   \n",
       "264922  28.00    1007.0        83        6.20       290          40   \n",
       "264923  28.00    1008.0        83        5.70       300          40   \n",
       "\n",
       "       weather_main  \n",
       "0              Rain  \n",
       "1              Rain  \n",
       "2              Rain  \n",
       "3              Rain  \n",
       "4            Clouds  \n",
       "...             ...  \n",
       "264919       Clouds  \n",
       "264920       Clouds  \n",
       "264921       Clouds  \n",
       "264922       Clouds  \n",
       "264923       Clouds  \n",
       "\n",
       "[232767 rows x 7 columns]"
      ]
     },
     "execution_count": 45,
     "metadata": {},
     "output_type": "execute_result"
    }
   ],
   "source": [
    "#Menghapus data yang duplikat\n",
    "df = df.drop_duplicates()\n",
    "df"
   ]
  },
  {
   "cell_type": "code",
   "execution_count": 46,
   "metadata": {},
   "outputs": [
    {
     "name": "stdout",
     "output_type": "stream",
     "text": [
      "\n",
      "Rows and Columns:\n",
      "(232767, 7)\n"
     ]
    }
   ],
   "source": [
    "#Menampilkan jumlah data sesudah dilakukan drop pada data duplikat\n",
    "print(f\"\\nRows and Columns:\\n{df.shape}\")"
   ]
  },
  {
   "cell_type": "code",
   "execution_count": 47,
   "metadata": {},
   "outputs": [
    {
     "data": {
      "image/png": "[encoded data removed]",
      "text/plain": [
       "<Figure size 300x200 with 1 Axes>"
      ]
     },
     "metadata": {},
     "output_type": "display_data"
    },
    {
     "data": {
      "image/png": "[encoded data removed]",
      "text/plain": [
       "<Figure size 300x200 with 1 Axes>"
      ]
     },
     "metadata": {},
     "output_type": "display_data"
    },
    {
     "data": {
      "image/png": "[encoded data removed]",
      "text/plain": [
       "<Figure size 300x200 with 1 Axes>"
      ]
     },
     "metadata": {},
     "output_type": "display_data"
    },
    {
     "data": {
      "image/png": "[encoded data removed]",
      "text/plain": [
       "<Figure size 300x200 with 1 Axes>"
      ]
     },
     "metadata": {},
     "output_type": "display_data"
    },
    {
     "data": {
      "image/png": "[encoded data removed]",
      "text/plain": [
       "<Figure size 300x200 with 1 Axes>"
      ]
     },
     "metadata": {},
     "output_type": "display_data"
    },
    {
     "data": {
      "image/png": "[encoded data removed]",
      "text/plain": [
       "<Figure size 300x200 with 1 Axes>"
      ]
     },
     "metadata": {},
     "output_type": "display_data"
    }
   ],
   "source": [
    "# Daftar fitur yang kemungkinan memiliki data outlier\n",
    "fitur_list = ['temp', 'pressure', 'humidity', 'wind_speed', 'wind_deg', 'clouds_all']\n",
    "# Menampilkan boxplot\n",
    "\n",
    "for fitur in fitur_list:\n",
    "    fig, ax = plt.subplots(figsize=(3, 2))\n",
    "    sb.boxplot(data=df, y=fitur, ax=ax)\n",
    "    plt.title(f'Boxplot {fitur}')\n",
    "    plt.savefig(f'{fitur}_boxplot.jpg')  # Menyimpan ke format JPG\n",
    "    plt.savefig(f'{fitur}_boxplot.png')  # Menyimpan ke format PNG\n",
    "    plt.show()"
   ]
  },
  {
   "attachments": {},
   "cell_type": "markdown",
   "metadata": {},
   "source": [
    "**REMOVE OUTLIER**"
   ]
  },
  {
   "cell_type": "code",
   "execution_count": 48,
   "metadata": {},
   "outputs": [
    {
     "name": "stdout",
     "output_type": "stream",
     "text": [
      "\n",
      "Rows and Columns:\n",
      "(232767, 7)\n"
     ]
    }
   ],
   "source": [
    "#Jumlah data sebelum data outlier dihapus\n",
    "print(f\"\\nRows and Columns:\\n{df.shape}\")"
   ]
  },
  {
   "cell_type": "code",
   "execution_count": 49,
   "metadata": {},
   "outputs": [],
   "source": [
    "#memilih fitur yang akan dihapus data outliernya\n",
    "fitur_list = ['temp', 'pressure', 'humidity', 'wind_speed', 'clouds_all']\n",
    "\n",
    "# Menghapus outlier menggunakan metode IQR\n",
    "for fitur in fitur_list:\n",
    "    Q1 = df[fitur].quantile(0.25)\n",
    "    Q3 = df[fitur].quantile(0.75)\n",
    "    IQR = Q3 - Q1\n",
    "\n",
    "    lower_bound = Q1 - 1.5 * IQR\n",
    "    upper_bound = Q3 + 1.5 * IQR\n",
    "\n",
    "    df = df[(df[fitur] >= lower_bound) & (df[fitur] <= upper_bound)]"
   ]
  },
  {
   "cell_type": "code",
   "execution_count": 50,
   "metadata": {},
   "outputs": [
    {
     "name": "stdout",
     "output_type": "stream",
     "text": [
      "\n",
      "Rows and Columns:\n",
      "(181418, 7)\n"
     ]
    }
   ],
   "source": [
    "#Jumlah data setelah data outlier dihapus\n",
    "print(f\"\\nRows and Columns:\\n{df.shape}\")"
   ]
  },
  {
   "attachments": {},
   "cell_type": "markdown",
   "metadata": {},
   "source": [
    "**Data Reduction**\n",
    "\n",
    "Pada tahap ini kami melakukan pemilihan kategori target yang nantinya akan diprekdiksi, target kategori utama kami adalah Rain, Clouds, Thunderstorm dan Clear. Karena target kategori lain memiliki data yang sangat jelek, maka kami memutuskan untuk menggunakan 4 target kategori tersebut. Penyebabnya adalah beberapa target kategori merupakn cuaca yang sangat jarang atau bahkan hampir tidak pernah terjadi di Indonesia. Oleh karena itu pada tahap ini akan dilakukan penghapusan target kategori yang tidak diperlukan untuk keperluan data balancing."
   ]
  },
  {
   "cell_type": "code",
   "execution_count": 51,
   "metadata": {},
   "outputs": [
    {
     "data": {
      "text/plain": [
       "weather_main\n",
       "Clouds          159769\n",
       "Rain             14367\n",
       "Clear             3872\n",
       "Thunderstorm      2845\n",
       "Haze               441\n",
       "Mist                62\n",
       "Smoke               28\n",
       "Fog                 15\n",
       "Dust                 5\n",
       "Tornado              4\n",
       "Ash                  4\n",
       "Squall               3\n",
       "Drizzle              3\n",
       "Name: count, dtype: int64"
      ]
     },
     "execution_count": 51,
     "metadata": {},
     "output_type": "execute_result"
    }
   ],
   "source": [
    "#Total masing-masing target kategori \n",
    "df.weather_main.value_counts()"
   ]
  },
  {
   "cell_type": "code",
   "execution_count": 52,
   "metadata": {},
   "outputs": [],
   "source": [
    "#Menghapus target kategori selain 4 target kategori utama\n",
    "allowed_categories = ['Rain', 'Clouds', 'Clear', 'Thunderstorm']\n",
    "data_cleaned = df[df['weather_main'].isin(allowed_categories)]\n",
    "df = data_cleaned"
   ]
  },
  {
   "cell_type": "code",
   "execution_count": 53,
   "metadata": {},
   "outputs": [],
   "source": [
    "from imblearn.over_sampling import SMOTE\n",
    "\n",
    "X = df.drop('weather_main', axis=1)  # Fitur\n",
    "y = df['weather_main']  # Target\n",
    "\n",
    "smote = SMOTE(sampling_strategy={'Clear': 13000, 'Thunderstorm': 13000})\n",
    "X_upsampled, y_upsampled = smote.fit_resample(X, y)"
   ]
  },
  {
   "cell_type": "code",
   "execution_count": 54,
   "metadata": {},
   "outputs": [],
   "source": [
    "upsampled_data = pd.concat([X_upsampled, y_upsampled], axis=1)"
   ]
  },
  {
   "cell_type": "code",
   "execution_count": 55,
   "metadata": {},
   "outputs": [],
   "source": [
    "df = upsampled_data"
   ]
  },
  {
   "cell_type": "code",
   "execution_count": 56,
   "metadata": {},
   "outputs": [
    {
     "data": {
      "text/html": [
       "<div>\n",
       "<style scoped>\n",
       "    .dataframe tbody tr th:only-of-type {\n",
       "        vertical-align: middle;\n",
       "    }\n",
       "\n",
       "    .dataframe tbody tr th {\n",
       "        vertical-align: top;\n",
       "    }\n",
       "\n",
       "    .dataframe thead th {\n",
       "        text-align: right;\n",
       "    }\n",
       "</style>\n",
       "<table border=\"1\" class=\"dataframe\">\n",
       "  <thead>\n",
       "    <tr style=\"text-align: right;\">\n",
       "      <th></th>\n",
       "      <th>temp</th>\n",
       "      <th>pressure</th>\n",
       "      <th>humidity</th>\n",
       "      <th>wind_speed</th>\n",
       "      <th>wind_deg</th>\n",
       "      <th>clouds_all</th>\n",
       "      <th>weather_main</th>\n",
       "    </tr>\n",
       "  </thead>\n",
       "  <tbody>\n",
       "    <tr>\n",
       "      <th>0</th>\n",
       "      <td>27.230000</td>\n",
       "      <td>1009.000000</td>\n",
       "      <td>82</td>\n",
       "      <td>1.670000</td>\n",
       "      <td>248</td>\n",
       "      <td>65</td>\n",
       "      <td>Clouds</td>\n",
       "    </tr>\n",
       "    <tr>\n",
       "      <th>1</th>\n",
       "      <td>27.320000</td>\n",
       "      <td>1008.000000</td>\n",
       "      <td>82</td>\n",
       "      <td>2.170000</td>\n",
       "      <td>218</td>\n",
       "      <td>68</td>\n",
       "      <td>Clouds</td>\n",
       "    </tr>\n",
       "    <tr>\n",
       "      <th>2</th>\n",
       "      <td>27.290000</td>\n",
       "      <td>1008.000000</td>\n",
       "      <td>82</td>\n",
       "      <td>2.910000</td>\n",
       "      <td>219</td>\n",
       "      <td>71</td>\n",
       "      <td>Rain</td>\n",
       "    </tr>\n",
       "    <tr>\n",
       "      <th>3</th>\n",
       "      <td>27.890000</td>\n",
       "      <td>1009.000000</td>\n",
       "      <td>78</td>\n",
       "      <td>3.600000</td>\n",
       "      <td>243</td>\n",
       "      <td>52</td>\n",
       "      <td>Clouds</td>\n",
       "    </tr>\n",
       "    <tr>\n",
       "      <th>4</th>\n",
       "      <td>27.910000</td>\n",
       "      <td>1009.000000</td>\n",
       "      <td>79</td>\n",
       "      <td>4.480000</td>\n",
       "      <td>243</td>\n",
       "      <td>21</td>\n",
       "      <td>Clouds</td>\n",
       "    </tr>\n",
       "    <tr>\n",
       "      <th>...</th>\n",
       "      <td>...</td>\n",
       "      <td>...</td>\n",
       "      <td>...</td>\n",
       "      <td>...</td>\n",
       "      <td>...</td>\n",
       "      <td>...</td>\n",
       "      <td>...</td>\n",
       "    </tr>\n",
       "    <tr>\n",
       "      <th>200131</th>\n",
       "      <td>28.133699</td>\n",
       "      <td>1008.694513</td>\n",
       "      <td>81</td>\n",
       "      <td>2.475629</td>\n",
       "      <td>237</td>\n",
       "      <td>20</td>\n",
       "      <td>Thunderstorm</td>\n",
       "    </tr>\n",
       "    <tr>\n",
       "      <th>200132</th>\n",
       "      <td>27.233999</td>\n",
       "      <td>1009.683502</td>\n",
       "      <td>82</td>\n",
       "      <td>1.887001</td>\n",
       "      <td>180</td>\n",
       "      <td>40</td>\n",
       "      <td>Thunderstorm</td>\n",
       "    </tr>\n",
       "    <tr>\n",
       "      <th>200133</th>\n",
       "      <td>28.544500</td>\n",
       "      <td>1006.830526</td>\n",
       "      <td>79</td>\n",
       "      <td>2.284242</td>\n",
       "      <td>230</td>\n",
       "      <td>40</td>\n",
       "      <td>Thunderstorm</td>\n",
       "    </tr>\n",
       "    <tr>\n",
       "      <th>200134</th>\n",
       "      <td>27.958262</td>\n",
       "      <td>1010.459846</td>\n",
       "      <td>86</td>\n",
       "      <td>1.337596</td>\n",
       "      <td>120</td>\n",
       "      <td>40</td>\n",
       "      <td>Thunderstorm</td>\n",
       "    </tr>\n",
       "    <tr>\n",
       "      <th>200135</th>\n",
       "      <td>26.781874</td>\n",
       "      <td>1010.009063</td>\n",
       "      <td>93</td>\n",
       "      <td>0.931263</td>\n",
       "      <td>202</td>\n",
       "      <td>20</td>\n",
       "      <td>Thunderstorm</td>\n",
       "    </tr>\n",
       "  </tbody>\n",
       "</table>\n",
       "<p>200136 rows × 7 columns</p>\n",
       "</div>"
      ],
      "text/plain": [
       "             temp     pressure  humidity  wind_speed  wind_deg  clouds_all   \n",
       "0       27.230000  1009.000000        82    1.670000       248          65  \\\n",
       "1       27.320000  1008.000000        82    2.170000       218          68   \n",
       "2       27.290000  1008.000000        82    2.910000       219          71   \n",
       "3       27.890000  1009.000000        78    3.600000       243          52   \n",
       "4       27.910000  1009.000000        79    4.480000       243          21   \n",
       "...           ...          ...       ...         ...       ...         ...   \n",
       "200131  28.133699  1008.694513        81    2.475629       237          20   \n",
       "200132  27.233999  1009.683502        82    1.887001       180          40   \n",
       "200133  28.544500  1006.830526        79    2.284242       230          40   \n",
       "200134  27.958262  1010.459846        86    1.337596       120          40   \n",
       "200135  26.781874  1010.009063        93    0.931263       202          20   \n",
       "\n",
       "        weather_main  \n",
       "0             Clouds  \n",
       "1             Clouds  \n",
       "2               Rain  \n",
       "3             Clouds  \n",
       "4             Clouds  \n",
       "...              ...  \n",
       "200131  Thunderstorm  \n",
       "200132  Thunderstorm  \n",
       "200133  Thunderstorm  \n",
       "200134  Thunderstorm  \n",
       "200135  Thunderstorm  \n",
       "\n",
       "[200136 rows x 7 columns]"
      ]
     },
     "execution_count": 56,
     "metadata": {},
     "output_type": "execute_result"
    }
   ],
   "source": [
    "df"
   ]
  },
  {
   "cell_type": "code",
   "execution_count": 57,
   "metadata": {},
   "outputs": [],
   "source": [
    "# Menghitung jumlah sampel dalam setiap kategori\n",
    "kategori_counts = df['weather_main'].value_counts()\n",
    "\n",
    "# Menentukan jumlah sampel yang diinginkan setelah downsampling\n",
    "desired_samples = 13000\n",
    "\n",
    "# Mendapatkan kategori dengan jumlah sampel terbanyak (kelas mayoritas)\n",
    "kelas_mayoritas = kategori_counts.idxmax()\n",
    "\n",
    "# Inisialisasi DataFrame kosong untuk menyimpan hasil downsampling\n",
    "downsampled_data = pd.DataFrame()\n",
    "\n",
    "# Melakukan downsampling pada setiap kategori\n",
    "for kategori in kategori_counts.index:\n",
    "    # Mengambil sampel acak sebanyak desired_samples dari kategori saat ini\n",
    "    samples = df[df['weather_main'] == kategori].sample(n=desired_samples, random_state=42)\n",
    "    # Menambahkan sampel ke DataFrame hasil downsampling\n",
    "    downsampled_data = pd.concat([downsampled_data, samples])\n",
    "\n",
    "df = downsampled_data"
   ]
  },
  {
   "cell_type": "code",
   "execution_count": 58,
   "metadata": {},
   "outputs": [
    {
     "data": {
      "text/plain": [
       "weather_main\n",
       "Clouds          13000\n",
       "Rain            13000\n",
       "Thunderstorm    13000\n",
       "Clear           13000\n",
       "Name: count, dtype: int64"
      ]
     },
     "execution_count": 58,
     "metadata": {},
     "output_type": "execute_result"
    }
   ],
   "source": [
    "#Total masing-masing target kategori \n",
    "df.weather_main.value_counts()"
   ]
  },
  {
   "cell_type": "code",
   "execution_count": 59,
   "metadata": {},
   "outputs": [
    {
     "data": {
      "text/plain": [
       "weather_main\n",
       "Clouds          13000\n",
       "Rain            13000\n",
       "Thunderstorm    13000\n",
       "Clear           13000\n",
       "Name: count, dtype: int64"
      ]
     },
     "execution_count": 59,
     "metadata": {},
     "output_type": "execute_result"
    }
   ],
   "source": [
    "#Total target kategori utama\n",
    "df.weather_main.value_counts()"
   ]
  },
  {
   "cell_type": "code",
   "execution_count": 60,
   "metadata": {},
   "outputs": [
    {
     "data": {
      "image/png": "[encoded data removed]",
      "text/plain": [
       "<Figure size 640x480 with 1 Axes>"
      ]
     },
     "metadata": {},
     "output_type": "display_data"
    }
   ],
   "source": [
    "#Menampilkan persentasi target kategori dengan pie chart\n",
    "plt.pie(df['weather_main'].value_counts().values,\n",
    "        labels = df['weather_main'].value_counts().index,\n",
    "        autopct='%1.1f%%')\n",
    "plt.show()"
   ]
  },
  {
   "cell_type": "code",
   "execution_count": 61,
   "metadata": {},
   "outputs": [
    {
     "data": {
      "text/html": [
       "<div>\n",
       "<style scoped>\n",
       "    .dataframe tbody tr th:only-of-type {\n",
       "        vertical-align: middle;\n",
       "    }\n",
       "\n",
       "    .dataframe tbody tr th {\n",
       "        vertical-align: top;\n",
       "    }\n",
       "\n",
       "    .dataframe thead th {\n",
       "        text-align: right;\n",
       "    }\n",
       "</style>\n",
       "<table border=\"1\" class=\"dataframe\">\n",
       "  <thead>\n",
       "    <tr style=\"text-align: right;\">\n",
       "      <th></th>\n",
       "      <th>temp</th>\n",
       "      <th>pressure</th>\n",
       "      <th>humidity</th>\n",
       "      <th>wind_speed</th>\n",
       "      <th>wind_deg</th>\n",
       "      <th>clouds_all</th>\n",
       "    </tr>\n",
       "    <tr>\n",
       "      <th>weather_main</th>\n",
       "      <th></th>\n",
       "      <th></th>\n",
       "      <th></th>\n",
       "      <th></th>\n",
       "      <th></th>\n",
       "      <th></th>\n",
       "    </tr>\n",
       "  </thead>\n",
       "  <tbody>\n",
       "    <tr>\n",
       "      <th>Clear</th>\n",
       "      <td>26.697329</td>\n",
       "      <td>1010.611318</td>\n",
       "      <td>79.557077</td>\n",
       "      <td>4.025057</td>\n",
       "      <td>133.768462</td>\n",
       "      <td>4.618923</td>\n",
       "    </tr>\n",
       "    <tr>\n",
       "      <th>Clouds</th>\n",
       "      <td>27.451605</td>\n",
       "      <td>1010.139500</td>\n",
       "      <td>79.750154</td>\n",
       "      <td>3.593657</td>\n",
       "      <td>150.351231</td>\n",
       "      <td>27.832462</td>\n",
       "    </tr>\n",
       "    <tr>\n",
       "      <th>Rain</th>\n",
       "      <td>26.320085</td>\n",
       "      <td>1009.717738</td>\n",
       "      <td>86.968077</td>\n",
       "      <td>3.703582</td>\n",
       "      <td>174.648000</td>\n",
       "      <td>38.013846</td>\n",
       "    </tr>\n",
       "    <tr>\n",
       "      <th>Thunderstorm</th>\n",
       "      <td>27.146517</td>\n",
       "      <td>1008.531939</td>\n",
       "      <td>85.869769</td>\n",
       "      <td>2.821803</td>\n",
       "      <td>180.177231</td>\n",
       "      <td>32.999615</td>\n",
       "    </tr>\n",
       "  </tbody>\n",
       "</table>\n",
       "</div>"
      ],
      "text/plain": [
       "                   temp     pressure   humidity  wind_speed    wind_deg   \n",
       "weather_main                                                              \n",
       "Clear         26.697329  1010.611318  79.557077    4.025057  133.768462  \\\n",
       "Clouds        27.451605  1010.139500  79.750154    3.593657  150.351231   \n",
       "Rain          26.320085  1009.717738  86.968077    3.703582  174.648000   \n",
       "Thunderstorm  27.146517  1008.531939  85.869769    2.821803  180.177231   \n",
       "\n",
       "              clouds_all  \n",
       "weather_main              \n",
       "Clear           4.618923  \n",
       "Clouds         27.832462  \n",
       "Rain           38.013846  \n",
       "Thunderstorm   32.999615  "
      ]
     },
     "execution_count": 61,
     "metadata": {},
     "output_type": "execute_result"
    }
   ],
   "source": [
    "#Menampilkan rata-rata fitur pada setiap target kategori\n",
    "df.groupby('weather_main').mean()"
   ]
  },
  {
   "attachments": {},
   "cell_type": "markdown",
   "metadata": {},
   "source": [
    "# Train Test Split"
   ]
  },
  {
   "cell_type": "code",
   "execution_count": 62,
   "metadata": {},
   "outputs": [],
   "source": [
    "from sklearn.model_selection import train_test_split\n",
    "\n",
    "# Memilih fitur dan target\n",
    "features = ['temp', 'pressure', 'humidity', 'wind_speed', 'wind_deg', 'clouds_all']\n",
    "target = 'weather_main'\n",
    "X = df[features]\n",
    "y = df[target]"
   ]
  },
  {
   "cell_type": "code",
   "execution_count": 63,
   "metadata": {},
   "outputs": [],
   "source": [
    "from sklearn.preprocessing import StandardScaler\n",
    "# Normalisasi menggunakan Standard Scaling\n",
    "scaler = StandardScaler()\n",
    "X_scaled = scaler.fit_transform(X)"
   ]
  },
  {
   "cell_type": "code",
   "execution_count": 64,
   "metadata": {},
   "outputs": [],
   "source": [
    "#Membagi data test dan trainnya\n",
    "X_train, X_test, y_train, y_test = train_test_split(X_scaled, y, test_size=0.2, random_state=42)"
   ]
  },
  {
   "attachments": {},
   "cell_type": "markdown",
   "metadata": {},
   "source": [
    "## Random Forest Classifier Model"
   ]
  },
  {
   "cell_type": "code",
   "execution_count": 65,
   "metadata": {},
   "outputs": [],
   "source": [
    "from sklearn.ensemble import RandomForestClassifier\n",
    "from sklearn.metrics import accuracy_score, precision_score, recall_score, f1_score\n",
    "# Membuat model Random Forest Classifier\n",
    "rfc_classifier = RandomForestClassifier()\n",
    "rfc_classifier.fit(X_train, y_train)\n",
    "rfc_predictions = rfc_classifier.predict(X_test)\n",
    "\n",
    "# Membuat evaluasi model\n",
    "rfc_score = accuracy_score(y_test, rfc_predictions)\n",
    "precision_rfc = precision_score(y_test, rfc_predictions, average='macro')\n",
    "recall_rfc = recall_score(y_test, rfc_predictions, average='macro')\n",
    "f1_rfc = f1_score(y_test, rfc_predictions, average='macro')"
   ]
  },
  {
   "cell_type": "code",
   "execution_count": 66,
   "metadata": {},
   "outputs": [
    {
     "name": "stdout",
     "output_type": "stream",
     "text": [
      "Random Forest Classifier:\n",
      "Accuracy: 0.8172115384615385\n",
      "Precision: 0.8174958313281042\n",
      "Recall: 0.8180092053577056\n",
      "F1 Score: 0.817536821948545\n"
     ]
    }
   ],
   "source": [
    "# Menampilkan evaluasi dari Model Random Forest Classifier\n",
    "print(\"Random Forest Classifier:\")\n",
    "print(\"Accuracy:\", rfc_score)\n",
    "print(\"Precision:\", precision_rfc)\n",
    "print(\"Recall:\", recall_rfc)\n",
    "print(\"F1 Score:\", f1_rfc)\n"
   ]
  },
  {
   "cell_type": "code",
   "execution_count": 67,
   "metadata": {},
   "outputs": [
    {
     "data": {
      "image/png": "[encoded data removed]",
      "text/plain": [
       "<Figure size 800x600 with 1 Axes>"
      ]
     },
     "metadata": {},
     "output_type": "display_data"
    }
   ],
   "source": [
    "from sklearn.metrics import confusion_matrix\n",
    "\n",
    "#Menampilkan confussion matrix dari Model Random Forest Classifier\n",
    "cm_rfc = confusion_matrix(y_test, rfc_predictions)\n",
    "plt.figure(figsize=(8, 6))\n",
    "sb.heatmap(cm_rfc, annot=True, cmap=\"Blues\", fmt=\"d\", cbar=False)\n",
    "plt.title(\"Confusion Matrix - Random Forest Classifier\")\n",
    "plt.xlabel(\"Predicted Labels\")\n",
    "plt.ylabel(\"True Labels\")\n",
    "plt.show()"
   ]
  },
  {
   "cell_type": "code",
   "execution_count": 68,
   "metadata": {},
   "outputs": [
    {
     "name": "stdout",
     "output_type": "stream",
     "text": [
      "Evaluation - Random Forest Classifier:\n",
      "              precision    recall  f1-score   support\n",
      "\n",
      "       Clear       1.00      1.00      1.00      2542\n",
      "      Clouds       0.77      0.74      0.76      2615\n",
      "        Rain       0.70      0.69      0.70      2582\n",
      "Thunderstorm       0.80      0.84      0.82      2661\n",
      "\n",
      "    accuracy                           0.82     10400\n",
      "   macro avg       0.82      0.82      0.82     10400\n",
      "weighted avg       0.82      0.82      0.82     10400\n",
      "\n",
      "\n"
     ]
    }
   ],
   "source": [
    "from sklearn.metrics import classification_report\n",
    "# Evaluasi model Random Forest Classifier\n",
    "print(\"Evaluation - Random Forest Classifier:\")\n",
    "print(classification_report(y_test, rfc_predictions))\n",
    "print()"
   ]
  },
  {
   "attachments": {},
   "cell_type": "markdown",
   "metadata": {},
   "source": [
    "## Decission Tree Classifier Model"
   ]
  },
  {
   "cell_type": "code",
   "execution_count": 69,
   "metadata": {},
   "outputs": [],
   "source": [
    "from sklearn.tree import DecisionTreeClassifier\n",
    "# Membuat model Decision Tree\n",
    "dt_classifier = DecisionTreeClassifier()\n",
    "dt_classifier.fit(X_train, y_train)\n",
    "dt_predictions = dt_classifier.predict(X_test)\n",
    "\n",
    "# Membuat evaluasi model\n",
    "dt_score = accuracy_score(y_test, dt_predictions)\n",
    "precision_dt = precision_score(y_test, dt_predictions, average='macro')\n",
    "recall_dt = recall_score(y_test, dt_predictions, average='macro')\n",
    "f1_dt = f1_score(y_test, dt_predictions, average='macro')"
   ]
  },
  {
   "cell_type": "code",
   "execution_count": 70,
   "metadata": {},
   "outputs": [
    {
     "name": "stdout",
     "output_type": "stream",
     "text": [
      "Decission Tree:\n",
      "Accuracy: 0.7441346153846153\n",
      "Precision: 0.7465144381715116\n",
      "Recall: 0.745631552356993\n",
      "F1 Score: 0.7459461955609944\n"
     ]
    }
   ],
   "source": [
    "#Menampilkan evaluasi dari Model Decission Tree\n",
    "print(\"Decission Tree:\")\n",
    "print(\"Accuracy:\", dt_score)\n",
    "print(\"Precision:\", precision_dt)\n",
    "print(\"Recall:\", recall_dt)\n",
    "print(\"F1 Score:\", f1_dt)"
   ]
  },
  {
   "cell_type": "code",
   "execution_count": 71,
   "metadata": {},
   "outputs": [
    {
     "data": {
      "image/png": "[encoded data removed]",
      "text/plain": [
       "<Figure size 800x600 with 1 Axes>"
      ]
     },
     "metadata": {},
     "output_type": "display_data"
    }
   ],
   "source": [
    "#Menampilkan confussion matrix dari Model Decission Tree\n",
    "cm_dt = confusion_matrix(y_test, dt_predictions)\n",
    "plt.figure(figsize=(8, 6))\n",
    "sb.heatmap(cm_dt, annot=True, cmap=\"Blues\", fmt=\"d\", cbar=False)\n",
    "plt.title(\"Confusion Matrix - Decission Tree\")\n",
    "plt.xlabel(\"Predicted Labels\")\n",
    "plt.ylabel(\"True Labels\")\n",
    "plt.show()"
   ]
  },
  {
   "cell_type": "code",
   "execution_count": 72,
   "metadata": {},
   "outputs": [
    {
     "name": "stdout",
     "output_type": "stream",
     "text": [
      "Evaluation - Decision Tree:\n",
      "              precision    recall  f1-score   support\n",
      "\n",
      "       Clear       1.00      1.00      1.00      2542\n",
      "      Clouds       0.67      0.65      0.66      2615\n",
      "        Rain       0.59      0.62      0.60      2582\n",
      "Thunderstorm       0.73      0.72      0.72      2661\n",
      "\n",
      "    accuracy                           0.74     10400\n",
      "   macro avg       0.75      0.75      0.75     10400\n",
      "weighted avg       0.75      0.74      0.74     10400\n",
      "\n",
      "\n"
     ]
    }
   ],
   "source": [
    "# Evaluasi model Decision Tree\n",
    "print(\"Evaluation - Decision Tree:\")\n",
    "print(classification_report(y_test, dt_predictions))\n",
    "print()"
   ]
  },
  {
   "attachments": {},
   "cell_type": "markdown",
   "metadata": {},
   "source": [
    "## Gaussian Naive Bayes Model"
   ]
  },
  {
   "cell_type": "code",
   "execution_count": 73,
   "metadata": {},
   "outputs": [],
   "source": [
    "from sklearn.naive_bayes import GaussianNB\n",
    "# Membuat model Naive Bayes\n",
    "nb_classifier = GaussianNB()\n",
    "nb_classifier.fit(X_train, y_train)\n",
    "nb_predictions = nb_classifier.predict(X_test)\n",
    "\n",
    "# Membuat evaluasi model\n",
    "nb_score = accuracy_score(y_test, nb_predictions)\n",
    "precision_nb = precision_score(y_test, nb_predictions, average='macro')\n",
    "recall_nb = recall_score(y_test, nb_predictions, average='macro')\n",
    "f1_nb = f1_score(y_test, nb_predictions, average='macro')"
   ]
  },
  {
   "cell_type": "code",
   "execution_count": 74,
   "metadata": {},
   "outputs": [
    {
     "name": "stdout",
     "output_type": "stream",
     "text": [
      "Naive Bayes Evaluation:\n",
      "Accuracy: 0.6745192307692308\n",
      "Precision: 0.6833744546586957\n",
      "Recall: 0.6764452162803158\n",
      "F1 Score: 0.6785363937590956\n"
     ]
    }
   ],
   "source": [
    "# Menampilkan evaluasi dari Model Naive Bayes\n",
    "print(\"Naive Bayes Evaluation:\")\n",
    "print(\"Accuracy:\", nb_score)\n",
    "print(\"Precision:\", precision_nb)\n",
    "print(\"Recall:\", recall_nb)\n",
    "print(\"F1 Score:\", f1_nb)"
   ]
  },
  {
   "cell_type": "code",
   "execution_count": 75,
   "metadata": {},
   "outputs": [
    {
     "data": {
      "image/png": "[encoded data removed]",
      "text/plain": [
       "<Figure size 800x600 with 1 Axes>"
      ]
     },
     "metadata": {},
     "output_type": "display_data"
    }
   ],
   "source": [
    "# Menampilkan confussion matrix dari Model Naive Bayes\n",
    "cm_nb = confusion_matrix(y_test, nb_predictions)\n",
    "plt.figure(figsize=(8, 6))\n",
    "sb.heatmap(cm_nb, annot=True, cmap=\"Blues\", fmt=\"d\", cbar=False)\n",
    "plt.title(\"Confusion Matrix - Naive Bayes\")\n",
    "plt.xlabel(\"Predicted Labels\")\n",
    "plt.ylabel(\"True Labels\")\n",
    "plt.show()"
   ]
  },
  {
   "cell_type": "code",
   "execution_count": 76,
   "metadata": {},
   "outputs": [
    {
     "name": "stdout",
     "output_type": "stream",
     "text": [
      "Evaluation - Naive Bayes:\n",
      "              precision    recall  f1-score   support\n",
      "\n",
      "       Clear       0.99      0.97      0.98      2542\n",
      "      Clouds       0.64      0.58      0.61      2615\n",
      "        Rain       0.57      0.55      0.56      2582\n",
      "Thunderstorm       0.53      0.61      0.57      2661\n",
      "\n",
      "    accuracy                           0.67     10400\n",
      "   macro avg       0.68      0.68      0.68     10400\n",
      "weighted avg       0.68      0.67      0.68     10400\n",
      "\n",
      "\n"
     ]
    }
   ],
   "source": [
    "# Evaluasi model Naive Bayes\n",
    "print(\"Evaluation - Naive Bayes:\")\n",
    "print(classification_report(y_test, nb_predictions))\n",
    "print()"
   ]
  },
  {
   "attachments": {},
   "cell_type": "markdown",
   "metadata": {},
   "source": [
    "## Support Vector Machine Model"
   ]
  },
  {
   "cell_type": "code",
   "execution_count": 77,
   "metadata": {},
   "outputs": [],
   "source": [
    "from sklearn.svm import SVC\n",
    "# Membuat model Support Vector Machine\n",
    "svm_classifier = SVC()\n",
    "svm_classifier.fit(X_train, y_train)\n",
    "svm_predictions = svm_classifier.predict(X_test)\n",
    "\n",
    "# Membuat evaluasi model\n",
    "svm_score = accuracy_score(y_test, svm_predictions)\n",
    "precision_svm = precision_score(y_test, svm_predictions, average='macro')\n",
    "recall_svm = recall_score(y_test, svm_predictions, average='macro')\n",
    "f1_svm = f1_score(y_test, svm_predictions, average='macro')"
   ]
  },
  {
   "cell_type": "code",
   "execution_count": 78,
   "metadata": {},
   "outputs": [
    {
     "name": "stdout",
     "output_type": "stream",
     "text": [
      "Support Vector Machine:\n",
      "Accuracy: 0.7167307692307693\n",
      "Precision: 0.7277554142156483\n",
      "Recall: 0.7179576321182513\n",
      "F1 Score: 0.7169397757417688\n"
     ]
    }
   ],
   "source": [
    "# Menampilkan evaluasi dari Model Support Vector Machine\n",
    "print(\"Support Vector Machine:\")\n",
    "print(\"Accuracy:\", svm_score)\n",
    "print(\"Precision:\", precision_svm)\n",
    "print(\"Recall:\", recall_svm)\n",
    "print(\"F1 Score:\", f1_svm)"
   ]
  },
  {
   "cell_type": "code",
   "execution_count": 79,
   "metadata": {},
   "outputs": [
    {
     "data": {
      "image/png": "[encoded data removed]",
      "text/plain": [
       "<Figure size 800x600 with 1 Axes>"
      ]
     },
     "metadata": {},
     "output_type": "display_data"
    }
   ],
   "source": [
    "cm_svm = confusion_matrix(y_test, svm_predictions)\n",
    "plt.figure(figsize=(8, 6))\n",
    "sb.heatmap(cm_svm, annot=True, cmap=\"Blues\", fmt=\"d\", cbar=False)\n",
    "plt.title(\"Confusion Matrix - Support Vector Machine\")\n",
    "plt.xlabel(\"Predicted Labels\")\n",
    "plt.ylabel(\"True Labels\")\n",
    "plt.show()"
   ]
  },
  {
   "cell_type": "code",
   "execution_count": 80,
   "metadata": {},
   "outputs": [
    {
     "name": "stdout",
     "output_type": "stream",
     "text": [
      "Evaluation - Support Vector Machine:\n",
      "              precision    recall  f1-score   support\n",
      "\n",
      "       Clear       0.99      1.00      1.00      2542\n",
      "      Clouds       0.72      0.62      0.66      2615\n",
      "        Rain       0.64      0.51      0.57      2582\n",
      "Thunderstorm       0.56      0.74      0.64      2661\n",
      "\n",
      "    accuracy                           0.72     10400\n",
      "   macro avg       0.73      0.72      0.72     10400\n",
      "weighted avg       0.73      0.72      0.72     10400\n",
      "\n",
      "\n"
     ]
    }
   ],
   "source": [
    "# Evaluasi model Support Vector Machine\n",
    "print(\"Evaluation - Support Vector Machine:\")\n",
    "print(classification_report(y_test, svm_predictions))\n",
    "print()"
   ]
  },
  {
   "attachments": {},
   "cell_type": "markdown",
   "metadata": {},
   "source": [
    "## Perbandingan akurasi terbaik dari 4 model"
   ]
  },
  {
   "cell_type": "code",
   "execution_count": 81,
   "metadata": {},
   "outputs": [
    {
     "name": "stdout",
     "output_type": "stream",
     "text": [
      "Random Forest Score: 0.8172115384615385\n",
      "Decision Tree Score: 0.7441346153846153\n",
      "Naive Bayes Score: 0.6745192307692308\n",
      "SVM Score: 0.7167307692307693\n"
     ]
    }
   ],
   "source": [
    "# Menampilkan skor masing-masing model\n",
    "print(\"Random Forest Score:\", rfc_score)\n",
    "print(\"Decision Tree Score:\", dt_score)\n",
    "print(\"Naive Bayes Score:\", nb_score)\n",
    "print(\"SVM Score:\", svm_score)"
   ]
  },
  {
   "attachments": {},
   "cell_type": "markdown",
   "metadata": {},
   "source": [
    "## Percobaan prediksi menggunakan masing-masing model"
   ]
  },
  {
   "cell_type": "code",
   "execution_count": 82,
   "metadata": {},
   "outputs": [
    {
     "name": "stdout",
     "output_type": "stream",
     "text": [
      "Prediction (Random Forest Classifier): ['Rain']\n"
     ]
    }
   ],
   "source": [
    "# Contoh prediksi menggunakan model Decision Tree\n",
    "example_data = [[27.04, 1010, 82, 1.71, 274, 76]]\n",
    "rfc_prediction_example = rfc_classifier.predict(example_data)\n",
    "print(\"Prediction (Random Forest Classifier):\", rfc_prediction_example)"
   ]
  },
  {
   "cell_type": "code",
   "execution_count": 83,
   "metadata": {},
   "outputs": [
    {
     "name": "stdout",
     "output_type": "stream",
     "text": [
      "Prediction (Decission Tree): ['Rain']\n"
     ]
    }
   ],
   "source": [
    "# Contoh prediksi menggunakan model Decision Tree\n",
    "example_data = [[27.04, 1010, 82, 1.71, 274, 76]]\n",
    "dt_prediction_example = dt_classifier.predict(example_data)\n",
    "print(\"Prediction (Decission Tree):\", dt_prediction_example)"
   ]
  },
  {
   "cell_type": "code",
   "execution_count": 84,
   "metadata": {},
   "outputs": [
    {
     "name": "stdout",
     "output_type": "stream",
     "text": [
      "Prediction (Naive Bayes): ['Rain']\n"
     ]
    }
   ],
   "source": [
    "# Contoh prediksi menggunakan model Decision Tree\n",
    "example_data = [[27.04, 1010, 82, 1.71, 274, 76]]\n",
    "nb_prediction_example = nb_classifier.predict(example_data)\n",
    "print(\"Prediction (Naive Bayes):\", nb_prediction_example)"
   ]
  },
  {
   "cell_type": "code",
   "execution_count": 85,
   "metadata": {},
   "outputs": [
    {
     "name": "stdout",
     "output_type": "stream",
     "text": [
      "Prediction (Support Vector Machine): ['Clouds']\n"
     ]
    }
   ],
   "source": [
    "# Contoh prediksi menggunakan model Decision Tree\n",
    "example_data = [[27.04, 1010, 82, 1.71, 274, 76]]\n",
    "svm_prediction_example = svm_classifier.predict(example_data)\n",
    "print(\"Prediction (Support Vector Machine):\", svm_prediction_example)"
   ]
  }
 ],
 "metadata": {
  "kernelspec": {
   "display_name": "Python 3",
   "language": "python",
   "name": "python3"
  },
  "language_info": {
   "codemirror_mode": {
    "name": "ipython",
    "version": 3
   },
   "file_extension": ".py",
   "mimetype": "text/x-python",
   "name": "python",
   "nbconvert_exporter": "python",
   "pygments_lexer": "ipython3",
   "version": "3.9.12"
  },
  "orig_nbformat": 4
 },
 "nbformat": 4,
 "nbformat_minor": 2
}
